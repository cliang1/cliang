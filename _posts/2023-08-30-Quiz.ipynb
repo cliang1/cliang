{
 "cells": [
  {
   "cell_type": "markdown",
   "metadata": {},
   "source": [
    "---\n",
    "toc: true\n",
    "comments: false\n",
    "layout: post\n",
    "title: Quiz\n",
    "description: Quiz\n",
    "type: tangibles\n",
    "courses: { compsci: {week: 2} }\n",
    "---"
   ]
  },
  {
   "cell_type": "code",
   "execution_count": 2,
   "metadata": {},
   "outputs": [
    {
     "name": "stdout",
     "output_type": "stream",
     "text": [
      "0\n",
      "\n",
      "Question 1: Which command allows people to import commands and funcitons?\n",
      "Incorrect, the correct answer is: import\n",
      "1\n",
      "\n",
      "Question 2: What command defines a funciton?\n",
      "Incorrect, the correct answer is: def\n",
      "2\n",
      "\n",
      "Question 3: Which command prints a specified messge on the screen?\n",
      "Incorrect, the correct answer is: print\n",
      "3\n",
      "\n",
      "Question 4: Which command helps differentiate right from wrong?\n",
      "Incorrect, the correct answer is: if\n",
      "4\n",
      "\n",
      "Question 5: Which command returns input from the user?\n",
      "Incorrect, the correct answer is: return\n",
      "5\n",
      "\n",
      "Question 6: A collection of characters is called ____?\n",
      "Incorrect, the correct answer is: string\n",
      "\n",
      "Quiz completed!\n",
      "cliang you scored 0.00%\n"
     ]
    }
   ],
   "source": [
    "import getpass, sys, os\n",
    "\n",
    "# Questions and answers\n",
    "\n",
    "questions = [\n",
    "    \"Which command allows people to import commands and funcitons?\",\n",
    "    \"What command defines a funciton?\",\n",
    "    \"Which command prints a specified messge on the screen?\",\n",
    "    \"Which command helps differentiate right from wrong?\",\n",
    "    \"Which command returns input from the user?\",\n",
    "    \"A collection of characters is called ____?\"\n",
    "]\n",
    "\n",
    "correct_answers = [\n",
    "    \"import\",\n",
    "    \"def\",\n",
    "    \"print\",\n",
    "    \"if\",\n",
    "    \"return\",\n",
    "    \"string\"\n",
    "]\n",
    "\n",
    "def question_with_response(prompt):\n",
    "    print(f\"\\nQuestion {prompt+1}: {questions[prompt]}\")\n",
    "    msg = input(\"\\nYour answer: \").lower()\n",
    "    return msg\n",
    "\n",
    "#Quiz function\n",
    "def run_quiz():\n",
    "    correct = 0\n",
    "    for i in range(len(questions)):\n",
    "        print(i)\n",
    "                \n",
    "        rsp = question_with_response(i)\n",
    "        if rsp == correct_answers[i]:\n",
    "            print(\"Correct!\")\n",
    "            correct +=1\n",
    "        else:\n",
    "            print(f\"Incorrect, the correct answer is: {correct_answers[i]}\")\n",
    "    score = (correct/6)\n",
    "    print(\"\\nQuiz completed!\")\n",
    "    print(getpass.getuser() + \" you scored \" + \"{:.2%}\".format(score))\n",
    "\n",
    "run_quiz() "
   ]
  }
 ],
 "metadata": {
  "kernelspec": {
   "display_name": "Python 3",
   "language": "python",
   "name": "python3"
  },
  "language_info": {
   "codemirror_mode": {
    "name": "ipython",
    "version": 3
   },
   "file_extension": ".py",
   "mimetype": "text/x-python",
   "name": "python",
   "nbconvert_exporter": "python",
   "pygments_lexer": "ipython3",
   "version": "3.10.12"
  },
  "orig_nbformat": 4
 },
 "nbformat": 4,
 "nbformat_minor": 2
}
