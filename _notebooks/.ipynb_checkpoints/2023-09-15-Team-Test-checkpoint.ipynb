{
 "cells": [
  {
   "cell_type": "markdown",
   "metadata": {},
   "source": [
    "---\n",
    "toc: true\n",
    "comments: false\n",
    "layout: post\n",
    "title: JS Output w/jquery\n",
    "description: Two tables on different dogs. :)\n",
    "type: hacks\n",
    "courses: { compsci: {week: 3} }\n",
    "---\n"
   ]
  },
  {
   "cell_type": "code",
   "execution_count": 2,
   "metadata": {},
   "outputs": [
    {
     "name": "stdout",
     "output_type": "stream",
     "text": [
      "\n",
      "Question 1: Question 1?\n",
      "Correct!\n",
      "\n",
      "Question 2: Question 2?\n",
      "Correct!\n",
      "\n",
      "Question 3: Question 3?\n",
      "Correct!\n",
      "\n",
      "Question 4: Question 4?\n",
      "Incorrect! The correct answer is: 4\n",
      "\n",
      "Question 5: Question 5?\n",
      "Correct!\n",
      "\n",
      "Question 6: Question 6?\n",
      "Incorrect! The correct answer is: 6\n",
      "\n",
      "Quiz completed!\n",
      "cliang, you scored 66.67%.\n"
     ]
    }
   ],
   "source": [
    "import getpass\n",
    "\n",
    "# Define the quiz dictionary with questions as keys and answers as values\n",
    "quiz = {\n",
    "    \"Question 1?\": \"1\",\n",
    "    \"Question 2?\": \"2\",\n",
    "    \"Question 3?\": \"3\",\n",
    "    \"Question 4?\": \"4\",\n",
    "    \"Question 5?\": \"5\",\n",
    "    \"Question 6?\": \"6\"\n",
    "}\n",
    "\n",
    "# Function to administer the quiz\n",
    "def run_quiz():\n",
    "    total_questions = len(quiz)\n",
    "    correct_answers = quiz.values()\n",
    "    score = 0\n",
    "\n",
    "    for i, (question, correct_answer) in enumerate(quiz.items(), start=1):\n",
    "        # enumerate assigns numbers to each value in the dictionary\n",
    "        print(f\"\\nQuestion {i}: {question}\")\n",
    "        user_answer = input(\"Your answer: \").strip().lower()\n",
    "\n",
    "        if user_answer == correct_answer:\n",
    "            print(\"Correct!\")\n",
    "            score += 1\n",
    "        else:\n",
    "            print(f\"Incorrect! The correct answer is: {correct_answer}\")\n",
    "\n",
    "    # Calculate the score as a percentage\n",
    "    percentage_score = (score / total_questions) * 100\n",
    "    print(f\"\\nQuiz completed!\\n{getpass.getuser()}, you scored {percentage_score:.2f}%.\")\n",
    "\n",
    "# Run the quiz\n",
    "run_quiz()\n"
   ]
  },
  {
   "cell_type": "code",
   "execution_count": 3,
   "metadata": {},
   "outputs": [
    {
     "name": "stdout",
     "output_type": "stream",
     "text": [
      "Even list:\n",
      "The list has an even number of elements.\n",
      "\n",
      "Odd list:\n",
      "The list has an odd number of elements.\n"
     ]
    }
   ],
   "source": [
    "def test_even_odd(numbers_list):\n",
    "    # Count the number of elements in the list\n",
    "    num_elements = len(numbers_list)\n",
    "\n",
    "    # Check if it's even or odd using the modulo operator\n",
    "    if num_elements % 2 == 0:\n",
    "        print(\"The list has an even number of elements.\")\n",
    "    else:\n",
    "        print(\"The list has an odd number of elements.\")\n",
    "\n",
    "\n",
    "# Example usage\n",
    "even_list = [1, 2, 3, 4, 5, 6]\n",
    "odd_list = [1, 2, 3, 4, 5]\n",
    "\n",
    "print(\"Even list:\")\n",
    "test_even_odd(even_list)\n",
    "\n",
    "print(\"\\nOdd list:\")\n",
    "test_even_odd(odd_list)\n"
   ]
  }
 ],
 "metadata": {
  "kernelspec": {
   "display_name": "Python 3 (ipykernel)",
   "language": "python",
   "name": "python3"
  },
  "language_info": {
   "codemirror_mode": {
    "name": "ipython",
    "version": 3
   },
   "file_extension": ".py",
   "mimetype": "text/x-python",
   "name": "python",
   "nbconvert_exporter": "python",
   "pygments_lexer": "ipython3",
   "version": "3.10.12"
  }
 },
 "nbformat": 4,
 "nbformat_minor": 2
}
