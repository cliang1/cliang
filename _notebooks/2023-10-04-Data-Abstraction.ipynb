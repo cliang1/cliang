{
 "cells": [
  {
   "cell_type": "markdown",
   "metadata": {},
   "source": [
    "---\n",
    "toc: true\n",
    "comments: false\n",
    "layout: post\n",
    "title: Data Abstraction\n",
    "description: Basics about Data Abstraction\n",
    "type: hacks\n",
    "courses: { compsci: {week: 7} }\n",
    "---\n"
   ]
  },
  {
   "cell_type": "markdown",
   "metadata": {},
   "source": [
    "Making a variable and age"
   ]
  },
  {
   "cell_type": "code",
   "execution_count": 4,
   "metadata": {},
   "outputs": [
    {
     "name": "stdout",
     "output_type": "stream",
     "text": [
      "True\n",
      "False\n"
     ]
    }
   ],
   "source": [
    "name: \"Cindy\"\n",
    "\n",
    "age = 16\n",
    "print(bool(age))\n",
    "\n",
    "print(age<8)"
   ]
  },
  {
   "cell_type": "markdown",
   "metadata": {},
   "source": [
    "Use all the variable types and print all the diffferent types of them, boolean, string, and integer."
   ]
  },
  {
   "cell_type": "code",
   "execution_count": 5,
   "metadata": {},
   "outputs": [
    {
     "name": "stdout",
     "output_type": "stream",
     "text": [
      "11 Cindy True\n"
     ]
    }
   ],
   "source": [
    "age = 11\n",
    "name = \"Cindy\"\n",
    "fail = True\n",
    "\n",
    "print(age, name, fail)"
   ]
  },
  {
   "cell_type": "code",
   "execution_count": 10,
   "metadata": {},
   "outputs": [
    {
     "name": "stdout",
     "output_type": "stream",
     "text": [
      "1 2 3\n",
      "3 3 1\n",
      "2\n"
     ]
    }
   ],
   "source": [
    "# changing of variables\n",
    "num1 = 1\n",
    "num2 = 2\n",
    "num3 = 3\n",
    "print(num1, num2, num3)\n",
    "num2 = num3\n",
    "num3 = num1\n",
    "num1 = num2\n",
    "num4 = num1 - num3\n",
    "print(num1, num2, num3)\n",
    "print(num4)"
   ]
  },
  {
   "cell_type": "markdown",
   "metadata": {},
   "source": [
    "Data abstraction for lists and strings..\n",
    "lists of characters, integers, strings, etc\n",
    "list is a set of items that can be anything, seperated by commas"
   ]
  },
  {
   "cell_type": "code",
   "execution_count": 12,
   "metadata": {},
   "outputs": [
    {
     "name": "stdout",
     "output_type": "stream",
     "text": [
      "Aditi\n"
     ]
    }
   ],
   "source": [
    "something = [\"hello\", 12, \"Cindy\", \"Aditi\", \"Eshika\"]\n",
    "\n",
    "print(something[3])"
   ]
  },
  {
   "cell_type": "markdown",
   "metadata": {},
   "source": [
    "Dictionaries - define multiple variables from a list"
   ]
  },
  {
   "cell_type": "code",
   "execution_count": 15,
   "metadata": {},
   "outputs": [
    {
     "ename": "NameError",
     "evalue": "name 'self' is not defined",
     "output_type": "error",
     "traceback": [
      "\u001b[0;31m---------------------------------------------------------------------------\u001b[0m",
      "\u001b[0;31mNameError\u001b[0m                                 Traceback (most recent call last)",
      "\u001b[0;32m/tmp/ipykernel_10787/1462445020.py\u001b[0m in \u001b[0;36m<module>\u001b[0;34m\u001b[0m\n\u001b[1;32m      6\u001b[0m     \u001b[0mprint\u001b[0m\u001b[0;34m(\u001b[0m\u001b[0;34m\"Hello my name is\"\u001b[0m \u001b[0;34m+\u001b[0m \u001b[0mself\u001b[0m\u001b[0;34m.\u001b[0m\u001b[0mname\u001b[0m\u001b[0;34m)\u001b[0m\u001b[0;34m\u001b[0m\u001b[0;34m\u001b[0m\u001b[0m\n\u001b[1;32m      7\u001b[0m \u001b[0;34m\u001b[0m\u001b[0m\n\u001b[0;32m----> 8\u001b[0;31m \u001b[0mmyfunc\u001b[0m\u001b[0;34m(\u001b[0m\u001b[0mself\u001b[0m\u001b[0;34m)\u001b[0m\u001b[0;34m\u001b[0m\u001b[0;34m\u001b[0m\u001b[0m\n\u001b[0m",
      "\u001b[0;31mNameError\u001b[0m: name 'self' is not defined"
     ]
    }
   ],
   "source": [
    "def __init__(self, name, age):\n",
    "    self.name = \"Cindy\"\n",
    "    self.age = 15\n",
    "    \n",
    "def myfunc(self):\n",
    "    print(\"Hello my name is\" + self.name)\n",
    "    "
   ]
  },
  {
   "cell_type": "code",
   "execution_count": 18,
   "metadata": {},
   "outputs": [
    {
     "name": "stdout",
     "output_type": "stream",
     "text": [
      "True\n",
      "['__abs__', '__add__', '__and__', '__bool__', '__ceil__', '__class__', '__delattr__', '__dir__', '__divmod__', '__doc__', '__eq__', '__float__', '__floor__', '__floordiv__', '__format__', '__ge__', '__getattribute__', '__getnewargs__', '__gt__', '__hash__', '__index__', '__init__', '__init_subclass__', '__int__', '__invert__', '__le__', '__lshift__', '__lt__', '__mod__', '__mul__', '__ne__', '__neg__', '__new__', '__or__', '__pos__', '__pow__', '__radd__', '__rand__', '__rdivmod__', '__reduce__', '__reduce_ex__', '__repr__', '__rfloordiv__', '__rlshift__', '__rmod__', '__rmul__', '__ror__', '__round__', '__rpow__', '__rrshift__', '__rshift__', '__rsub__', '__rtruediv__', '__rxor__', '__setattr__', '__sizeof__', '__str__', '__sub__', '__subclasshook__', '__truediv__', '__trunc__', '__xor__', 'as_integer_ratio', 'bit_count', 'bit_length', 'conjugate', 'denominator', 'from_bytes', 'imag', 'numerator', 'real', 'to_bytes']\n"
     ]
    }
   ],
   "source": [
    "x = 5\n",
    "print(isinstance(x, int))\n",
    "print(dir(x))\n",
    "#x is an integer, so it is true"
   ]
  },
  {
   "cell_type": "code",
   "execution_count": 20,
   "metadata": {},
   "outputs": [
    {
     "name": "stdout",
     "output_type": "stream",
     "text": [
      "[\"hi\", \"idk\", \"hello\", \"help\"]\n"
     ]
    }
   ],
   "source": [
    "import json\n",
    "string = [\"hi\", \"idk\", \"hello\", \"help\"]\n",
    "json_obj = json.dumps(string)\n",
    "print(json_obj)\n"
   ]
  },
  {
   "cell_type": "code",
   "execution_count": 28,
   "metadata": {},
   "outputs": [
    {
     "name": "stdout",
     "output_type": "stream",
     "text": [
      "name: Aditi, Age: 15\n",
      "name: Samhita, Age: 14\n",
      "name: Eshika, Age: 125\n"
     ]
    }
   ],
   "source": [
    "#HW hack - Class\n",
    "class Person: \n",
    "    def __init__(self, name, age):\n",
    "        self.name = name\n",
    "        self.age = age\n",
    "def print_people(people_list):\n",
    "    for Person in people_list:\n",
    "        print(f\"name: {Person.name}, Age: {Person.age}\")\n",
    "def main():\n",
    "    people = [Person(\"Aditi\", 15), Person(\"Samhita\", 14), Person(\"Eshika\", 125)]\n",
    "    print_people(people)\n",
    "\n",
    "if __name__ == \"__main__\":\n",
    "    main()"
   ]
  },
  {
   "cell_type": "code",
   "execution_count": 27,
   "metadata": {},
   "outputs": [
    {
     "name": "stdout",
     "output_type": "stream",
     "text": [
      "Name: Aditi, Age: 30\n",
      "Name: Samhita, Age: 35\n",
      "Name: Eshika, Age: 25\n"
     ]
    }
   ],
   "source": [
    "def print_people(people_dict):\n",
    "    for person_name, person_age in people_dict.items():\n",
    "        print(f\"Name: {person_name}, Age: {person_age}\")\n",
    "\n",
    "# Example usage\n",
    "people = {\n",
    "    \"Aditi\": 30,\n",
    "    \"Samhita\": 35,\n",
    "    \"Eshika\": 25\n",
    "}\n",
    "\n",
    "print_people(people)\n"
   ]
  },
  {
   "cell_type": "markdown",
   "metadata": {},
   "source": [
    "# Tangibles:\n",
    "\n",
    "I think it was really interesting to review the concepts of variables, classes, isinstance, and ect. since these are still pretty new to me, and it was a good idea to go more in-depth about them. "
   ]
  }
 ],
 "metadata": {
  "kernelspec": {
   "display_name": "Python 3",
   "language": "python",
   "name": "python3"
  },
  "language_info": {
   "codemirror_mode": {
    "name": "ipython",
    "version": 3
   },
   "file_extension": ".py",
   "mimetype": "text/x-python",
   "name": "python",
   "nbconvert_exporter": "python",
   "pygments_lexer": "ipython3",
   "version": "3.10.12"
  },
  "orig_nbformat": 4
 },
 "nbformat": 4,
 "nbformat_minor": 2
}
