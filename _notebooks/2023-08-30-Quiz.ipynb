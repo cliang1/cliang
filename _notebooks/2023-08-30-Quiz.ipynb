{
 "cells": [
  {
   "cell_type": "markdown",
   "metadata": {},
   "source": [
    "---\n",
    "toc: true\n",
    "comments: false\n",
    "layout: post\n",
    "title: Quiz\n",
    "description: Quiz project (hopefully)\n",
    "type: hacks\n",
    "courses: { compsci: {week: 2} }\n",
    "---"
   ]
  },
  {
   "cell_type": "code",
   "execution_count": null,
   "metadata": {},
   "outputs": [],
   "source": [
    "import getpass, sys, os\n",
    "\n",
    "# Questions and answers\n",
    "\n",
    "questions = [\n",
    "    \"Which command allows people to import commands and funcitons?\",\n",
    "    \"What command defines a funciton?\",\n",
    "    \"Which command prints a specified messge on the screen?\",\n",
    "    \"Which command helps differentiate right from wrong?\",\n",
    "    \"Which command returns input from the user?\",\n",
    "    \"A collection of characters is called ____?\"\n",
    "]\n",
    "\n",
    "correct_answers = [\n",
    "    \"import\",\n",
    "    \"def\",\n",
    "    \"print\",\n",
    "    \"if\",\n",
    "    \"return\",\n",
    "    \"string\"\n",
    "]\n",
    "\n",
    "def question_with_response(prompt):\n",
    "    print(f\"\\nQuestion {prompt+1}: {questions[prompt]}\")\n",
    "    msg = input(\"\\nYour answer: \").lower()\n",
    "    return msg\n",
    "\n",
    "#Quiz function\n",
    "def run_quiz():\n",
    "    correct = 0\n",
    "    #keeps count of how many are correct\n",
    "    for i in range(len(questions)):\n",
    "        print(i)\n",
    "        #tells us which iteration it is on        \n",
    "        rsp = question_with_response(i)\n",
    "        if rsp == correct_answers[i]:\n",
    "            print(\"Correct!\")\n",
    "            correct +=1\n",
    "        else:\n",
    "            print(f\"Incorrect, the correct answer is: {correct_answers[i]}\")\n",
    "            # if it is correct, a point is added to correct. If not, the user is told it is incorrect, and the incorrect answer is shown\n",
    "    score = (correct/6) \n",
    "    #makes it easier to formate the number as a percentage\n",
    "    print(\"\\nQuiz completed!\")\n",
    "    print(getpass.getuser() + \" you scored \" + \"{:.2%}\".format(score))\n",
    "    # Prints the user's name, then you scored, and the score as a percentag, up to two decimal points\n",
    "\n",
    "run_quiz() "
   ]
  }
 ],
 "metadata": {
  "kernelspec": {
   "display_name": "Python 3",
   "language": "python",
   "name": "python3"
  },
  "language_info": {
   "codemirror_mode": {
    "name": "ipython",
    "version": 3
   },
   "file_extension": ".py",
   "mimetype": "text/x-python",
   "name": "python",
   "nbconvert_exporter": "python",
   "pygments_lexer": "ipython3",
   "version": "3.10.12"
  },
  "orig_nbformat": 4
 },
 "nbformat": 4,
 "nbformat_minor": 2
}
