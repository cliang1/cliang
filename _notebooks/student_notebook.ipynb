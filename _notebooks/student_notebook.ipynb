{
 "cells": [
  {
   "cell_type": "markdown",
   "metadata": {},
   "source": [
    "---\n",
    "toc: true\n",
    "comments: false\n",
    "layout: post\n",
    "title: Daily Plan Sample\n",
    "description: Example Blog!!!  This shows planning and notes from hacks.\n",
    "type: plans\n",
    "courses: { compsci: {week: 0} }\n",
    "---"
   ]
  },
  {
   "cell_type": "code",
   "execution_count": null,
   "metadata": {
    "vscode": {
     "languageId": "plaintext"
    }
   },
   "outputs": [],
   "source": [
    "from tabulate import tabulate\n",
    "\n",
    "data = [\n",
    "    [\"Install Tools.\", \"Design lab notebook.\", \"Learn GitHub Pages.\", \"Work with Pair (pair name).\"],\n",
    "    [\"5:\", \"start: 0\", \"end: 3\", \"\"]\n",
    "]\n",
    "\n",
    "headers = [\"Task 1\", \"Task 2\", \"Task 3\", \"Task 4\"]\n",
    "\n",
    "table = tabulate(data, headers=headers, tablefmt=\"grid\")\n",
    "print(table)"
   ]
  }
 ],
 "metadata": {
  "language_info": {
   "name": "python"
  },
  "orig_nbformat": 4
 },
 "nbformat": 4,
 "nbformat_minor": 2
}
