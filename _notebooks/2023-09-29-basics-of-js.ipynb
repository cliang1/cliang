{
 "cells": [
  {
   "cell_type": "markdown",
   "metadata": {},
   "source": [
    "---\n",
    "toc: true\n",
    "comments: false\n",
    "layout: post\n",
    "title: Basics of JS\n",
    "description: Basics of JS\n",
    "type: hacks\n",
    "courses: { compsci: {week: 5} }\n",
    "---"
   ]
  },
  {
   "cell_type": "raw",
   "metadata": {},
   "source": [
    "{% include nav_basics.html %}\n"
   ]
  },
  {
   "cell_type": "markdown",
   "metadata": {},
   "source": [
    "\n",
    "# How to use javascript in any of your pages\n",
    "- Simply add a ``<script></script>`` in your markdown or jupyter cells\n",
    "- (Note: the %%html magic command allows us to add HTML and JavaScript into a jupyter notebook, the outputted \"site\" will be shown below the code)"
   ]
  },
  {
   "cell_type": "code",
   "execution_count": 8,
   "metadata": {},
   "outputs": [
    {
     "data": {
      "text/html": [
       "<h3>Page Heading</h3>\n",
       "<p>Paragraph description of page</p>\n",
       "<script>\n",
       "    console.log(\"Output to console, showing that JavaScript code is running\")\n",
       "</script>\n"
      ],
      "text/plain": [
       "<IPython.core.display.HTML object>"
      ]
     },
     "metadata": {},
     "output_type": "display_data"
    }
   ],
   "source": [
    "%%html\n",
    "<h3>Page Heading</h3>\n",
    "<p>Paragraph description of page</p>\n",
    "<script>\n",
    "    console.log(\"Output to console, showing that JavaScript code is running\")\n",
    "</script>\n"
   ]
  },
  {
   "cell_type": "markdown",
   "metadata": {},
   "source": [
    "# Writing text to console.log\n",
    "- The text written with `console.log` appears in the Console\n",
    "- `console.log` allows you to write text -- but you don't see any text in above example until you view Console.\n",
    "- Activate Console window\n",
    "    - VSCode Help-Toggle Developer Tools allows you to see console.log output\n",
    "    - Chrome and other browsers require right click -> inspect also allows access to console.log output\n",
    "        - Safari users will need to enable developer settings before inspecting an element. To do this go to Safari settings -> advanced and check the box next to \"Show develop menu in menu bar\"\n",
    "    - By default you usually need to click Console next to Elements, to see console.log output\n",
    "    - Also, you may want to press clear console (cirlcl with slash) to clean up screen before analysis. \n"
   ]
  },
  {
   "cell_type": "markdown",
   "metadata": {},
   "source": [
    "## Try code with Console\n",
    "- Developers typically keep console open\n",
    "- In console window, you can run javascript code from prompt"
   ]
  },
  {
   "cell_type": "markdown",
   "metadata": {},
   "source": [
    "# Storing data\n",
    "- One of the most important things in programming is learning how data is stored, this is often called Data Abstraction (the ability to represent data in a programming language)."
   ]
  },
  {
   "cell_type": "markdown",
   "metadata": {},
   "source": [
    "## Types of data\n",
    "- Javascript has a few basic types of data, which align with what the types of data you might know yourself\n",
    "- In javascript, these types are formalized as:\n",
    "  - text = \"string\", number = \"number\", true/false = \"boolean\""
   ]
  },
  {
   "cell_type": "markdown",
   "metadata": {},
   "source": [
    "## Name the Data\n",
    "- When you think of data, it has a name and a value.\n",
    "- Using the \"var\" JavaScript syntax you create a `variable` with a name and a value.\n",
    "- In javascript this can represented with the following: `var someName = value;`\n",
    "  - The name cannot have spaces\n",
    "  - Text values must be wrapped in single or double quotes to identify it as text (see exmaples below)"
   ]
  },
  {
   "cell_type": "markdown",
   "metadata": {},
   "source": [
    "## Accessing data\n",
    "- To access data (the value of a variable), simply just use the name of the variable\n",
    "- For example, we can use the values from previously in a `console.log`"
   ]
  },
  {
   "cell_type": "code",
   "execution_count": 17,
   "metadata": {
    "vscode": {
     "languageId": "html"
    }
   },
   "outputs": [
    {
     "data": {
      "text/html": [
       "\n",
       "<script>\n",
       "// create variables\n",
       "var firstName = \"Rohan\"\n",
       "var lastName = 'Juneja'\n",
       "var age = 17;\n",
       "var isSchoolDay = true; \n",
       "\n",
       "// inspect values and type\n",
       "console.log(firstName, typeof firstName)\n",
       "console.log(lastName, typeof lastName)\n",
       "console.log(age, typeof age)\n",
       "console.log(isSchoolDay, typeof isSchoolDay)\n",
       "\n",
       "</script>\n"
      ],
      "text/plain": [
       "<IPython.core.display.HTML object>"
      ]
     },
     "metadata": {},
     "output_type": "display_data"
    }
   ],
   "source": [
    "%%html\n",
    "\n",
    "<script>\n",
    "// create variables\n",
    "var firstName = \"Rohan\"\n",
    "var lastName = 'Juneja'\n",
    "var age = 17;\n",
    "var isSchoolDay = true; \n",
    "\n",
    "// inspect values and type\n",
    "console.log(firstName, typeof firstName)\n",
    "console.log(lastName, typeof lastName)\n",
    "console.log(age, typeof age)\n",
    "console.log(isSchoolDay, typeof isSchoolDay)\n",
    "\n",
    "</script>"
   ]
  },
  {
   "cell_type": "markdown",
   "metadata": {},
   "source": [
    "# String Operators\n",
    "- \"+\" concatenates string, same as combining text\n",
    "- \"==\" checks if strings are the same, if so it outputs `true`, otherwise `false`\n",
    "  - \"!==\" is \"not equal to\" (opposite of equal to)\n",
    "\n",
    "## Assignment Operator\n",
    "- \"=\" can be used to change the value of a variable\n",
    "  - ie. if you already created \"name1\" you can reassign name1 = \"New Name\""
   ]
  },
  {
   "cell_type": "code",
   "execution_count": 16,
   "metadata": {
    "vscode": {
     "languageId": "html"
    }
   },
   "outputs": [
    {
     "data": {
      "text/html": [
       "\n",
       "<script>\n",
       "// string assignment\n",
       "var name1 = \"Doe\"\n",
       "var name2 = \"Doe\"\n",
       "\n",
       "// compare names\n",
       "console.log(\"String Comparison\")\n",
       "console.log(\"name1\", name1)\n",
       "console.log(\"name2\", name2)\n",
       "console.log(\"name1 == name2\", name1 == name2)\n",
       "\n",
       "// changing the value of name1 and repeat compare\n",
       "console.log(\"String Comparison after change\")\n",
       "name1 = \"John\"\n",
       "console.log(\"name1\", name1)\n",
       "console.log(\"name2\", name2)\n",
       "console.log(\"name1 == name2\", name1 == name2)\n",
       "\n",
       "console.log(\"String Concatenation\")\n",
       "console.log(name1 + \" \" + name2)\n",
       "</script>\n"
      ],
      "text/plain": [
       "<IPython.core.display.HTML object>"
      ]
     },
     "metadata": {},
     "output_type": "display_data"
    }
   ],
   "source": [
    "%%html\n",
    "\n",
    "<script>\n",
    "// string assignment\n",
    "var name1 = \"Doe\"\n",
    "var name2 = \"Doe\"\n",
    "\n",
    "// compare names\n",
    "console.log(\"String Comparison\")\n",
    "console.log(\"name1\", name1)\n",
    "console.log(\"name2\", name2)\n",
    "console.log(\"name1 == name2\", name1 == name2)\n",
    "\n",
    "// changing the value of name1 and repeat compare\n",
    "console.log(\"String Comparison after change\")\n",
    "name1 = \"John\"  // reassign\n",
    "console.log(\"name1\", name1)\n",
    "console.log(\"name2\", name2)\n",
    "console.log(\"name1 == name2\", name1 == name2)\n",
    "\n",
    "console.log(\"String Concatenation\")\n",
    "console.log(name1 + \" \" + name2)\n",
    "</script>\n"
   ]
  },
  {
   "cell_type": "markdown",
   "metadata": {},
   "source": [
    "# Number Operators\n",
    "- \"+\" adds numbers together\n",
    "- \"-\" subtracts numbers, \"/\" divides numbers, \"*\" multiples numbers\n",
    "- \"===\" checks if two values are the same, if so it outputs `true`, otherwise `false`\n",
    "  - \"!==\" is \"not equal to\" (opposite of equal to)\n",
    "  - normal oeprators like \"<\", \">\", \">=\" (greater than or equal to), \"<=\" with numbers\n",
    "\n",
    "## Assignment Operator\n",
    "- \"=\" can be used to create or change the value of a variable"
   ]
  },
  {
   "cell_type": "code",
   "execution_count": 28,
   "metadata": {
    "vscode": {
     "languageId": "html"
    }
   },
   "outputs": [
    {
     "data": {
      "text/html": [
       "\n",
       "<script>\n",
       "var age1 = 17\n",
       "var age2 = 16\n",
       "var age3 = '17'\n",
       "\n",
       "console.log(\"Number Comparisons\")\n",
       "console.log(\"age1:\", age1)\n",
       "console.log(\"age2:\", age2)\n",
       "console.log(\"age3:\", age3)\n",
       "console.log(\"age1 == age2\", age1 == age2)\n",
       "console.log(\"age1 == age3\", age1 == age3)\n",
       "console.log(\"age1 === age3\", age1 === age3)\n",
       "console.log(\"age1 > age2\", age1 > age2)\n",
       "console.log(\"age1 < age2\", age1 < age2)\n",
       "\n",
       "var num1 = 9\n",
       "var num2 = 5\n",
       "console.log(\"\\n\")\n",
       "console.log(\"Arithmetic Operations\")\n",
       "console.log(\"num1:\", num1)\n",
       "console.log(\"num2:\", num2)\n",
       "console.log(\"num1 + num2\", num1 + num2)\n",
       "console.log(\"num1 - num2\", num1 - num2)\n",
       "console.log(\"num1 * num2\", num1 * num2)\n",
       "console.log(\"num1 / num2\", num1 / num2)\n",
       "console.log(\"num1 % num2\", num1 % num2)\n",
       "\n",
       "</script>\n"
      ],
      "text/plain": [
       "<IPython.core.display.HTML object>"
      ]
     },
     "metadata": {},
     "output_type": "display_data"
    }
   ],
   "source": [
    "%%html\n",
    "\n",
    "<script>\n",
    "var age1 = 17\n",
    "var age2 = 16\n",
    "var age3 = '17'\n",
    "\n",
    "console.log(\"Number Comparisons\")\n",
    "console.log(\"age1:\", age1)\n",
    "console.log(\"age2:\", age2)\n",
    "console.log(\"age3:\", age3)\n",
    "console.log(\"age1 == age2\", age1 == age2)\n",
    "console.log(\"age1 == age3\", age1 == age3)\n",
    "console.log(\"age1 === age3\", age1 === age3)\n",
    "console.log(\"age1 > age2\", age1 > age2)\n",
    "console.log(\"age1 < age2\", age1 < age2)\n",
    "\n",
    "var num1 = 9\n",
    "var num2 = 5\n",
    "console.log(\"\\n\")\n",
    "console.log(\"Arithmetic Operations\")\n",
    "console.log(\"num1:\", num1)\n",
    "console.log(\"num2:\", num2)\n",
    "console.log(\"num1 + num2\", num1 + num2)\n",
    "console.log(\"num1 - num2\", num1 - num2)\n",
    "console.log(\"num1 * num2\", num1 * num2)\n",
    "console.log(\"num1 / num2\", num1 / num2)\n",
    "console.log(\"num1 % num2\", num1 % num2)\n",
    "\n",
    "</script>"
   ]
  },
  {
   "cell_type": "markdown",
   "metadata": {},
   "source": [
    "# Conditional Statements\n",
    "- Think about any actions that you take: you usually take them based on information you take in\n",
    "  - If tommorow is a school day, set an alarm for tomorrow at 8am\n",
    "- We can also add additional clauses at the end\n",
    "  - If tommorow is a school day, set an alarm for tomorrow at 8am, otherwise (else) set an alarm for tommorow at 10am"
   ]
  },
  {
   "cell_type": "code",
   "execution_count": 29,
   "metadata": {
    "vscode": {
     "languageId": "html"
    }
   },
   "outputs": [
    {
     "data": {
      "text/html": [
       "\n",
       "<script>\n",
       "// the above example in code\n",
       "console.log(\"Alarm Example\")\n",
       "\n",
       "var tommorowIsSchoolDay = false\n",
       "\n",
       "if (tommorowIsSchoolDay) {\n",
       "    // this code runs if tommorw is a school day\n",
       "    console.log(\"Setting alarm for 8am\")\n",
       "} else {\n",
       "    // this code runs if tommorow is not a school day\n",
       "    console.log(\"Setting alarm for 10am\")\n",
       "}\n",
       "</script>\n"
      ],
      "text/plain": [
       "<IPython.core.display.HTML object>"
      ]
     },
     "metadata": {},
     "output_type": "display_data"
    }
   ],
   "source": [
    "%%html\n",
    "\n",
    "<script>\n",
    "// the above example in code\n",
    "console.log(\"Alarm Example\")\n",
    "\n",
    "var tommorowIsSchoolDay = false\n",
    "\n",
    "if (tommorowIsSchoolDay) {\n",
    "    // this code runs if tommorw is a school day\n",
    "    console.log(\"Setting alarm for 8am\")\n",
    "} else {\n",
    "    // this code runs if tommorow is not a school day\n",
    "    console.log(\"Setting alarm for 10am\")\n",
    "}\n",
    "</script>"
   ]
  },
  {
   "cell_type": "markdown",
   "metadata": {},
   "source": [
    "# Conditional Statements + Operators\n",
    "- Since many operators return a true/false value (equals, gerater than, etc.) we can use them inside \"if\" statements"
   ]
  },
  {
   "cell_type": "code",
   "execution_count": 30,
   "metadata": {
    "vscode": {
     "languageId": "html"
    }
   },
   "outputs": [
    {
     "data": {
      "text/html": [
       "<script>\n",
       "console.log(\"If statements + Operators\")\n",
       "var age1 = 17\n",
       "var age2 = 37\n",
       "\n",
       "if (age1 > age2) {\n",
       "    // runs if age1 is more than age2\n",
       "    console.log(\"age1 is more than age2\")\n",
       "\n",
       "} else if (age1 == age2) {\n",
       "    // runs if age1 and age2 are the same\n",
       "    console.log(\"age1 is the same as age2\")\n",
       "\n",
       "// (age1 < age2)\n",
       "} else  {\n",
       "    // runs if age2 is more than age1\n",
       "    console.log(\"age1 is less than age2\")\n",
       "}\n",
       "\n",
       "</script>\n"
      ],
      "text/plain": [
       "<IPython.core.display.HTML object>"
      ]
     },
     "metadata": {},
     "output_type": "display_data"
    }
   ],
   "source": [
    "%%html\n",
    "<script>\n",
    "console.log(\"If statements + Operators\")\n",
    "var age1 = 17\n",
    "var age2 = 37\n",
    "\n",
    "if (age1 > age2) {\n",
    "    // runs if age1 is more than age2\n",
    "    console.log(\"age1 is more than age2\")\n",
    "\n",
    "} else if (age1 == age2) {\n",
    "    // runs if age1 and age2 are the same\n",
    "    console.log(\"age1 is the same as age2\")\n",
    "\n",
    "// (age1 < age2)\n",
    "} else  {\n",
    "    // runs if age2 is more than age1\n",
    "    console.log(\"age1 is less than age2\")\n",
    "}\n",
    "\n",
    "</script>"
   ]
  },
  {
   "cell_type": "markdown",
   "metadata": {},
   "source": [
    "# Hacks\n",
    "- Write a JavaScript program that compares two variables, a and b. Log \"a is greater\" if a is greater than b, \"b is greater\" if b is greater than a, and \"both are equal\" if a and b are equal. Make sure to use if statements and console.log"
   ]
  },
  {
   "cell_type": "code",
   "execution_count": 3,
   "metadata": {
    "vscode": {
     "languageId": "javascript"
    }
   },
   "outputs": [
    {
     "data": {
      "application/javascript": "// put your javascript code here\n",
      "text/plain": [
       "<IPython.core.display.Javascript object>"
      ]
     },
     "metadata": {},
     "output_type": "display_data"
    }
   ],
   "source": [
    "%%js\n",
    "\n",
    "const userInput = prompt(\"Enter a number:\");\n",
    "const userInput2 = prompt(\"Enter a number:\");\n",
    "const a = parseFloat(userInput);\n",
    "const b = parseFloat(userInput2);\n",
    "\n",
    "if (a > b) {\n",
    "  console.log(\"a is greater than b\");\n",
    "} else if (b > a) {\n",
    "  console.log(\"b is greater than a\");\n",
    "} else {\n",
    "  console.log(\"both are equal\");\n",
    "}\n"
   ]
  },
  {
   "cell_type": "markdown",
   "metadata": {},
   "source": [
    "<img src=\"data:image/png;base64,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\" alt=\"Image\">"
   ]
  }
 ],
 "metadata": {
  "kernelspec": {
   "display_name": "Python 3",
   "language": "python",
   "name": "python3"
  },
  "language_info": {
   "codemirror_mode": {
    "name": "ipython",
    "version": 3
   },
   "file_extension": ".py",
   "mimetype": "text/x-python",
   "name": "python",
   "nbconvert_exporter": "python",
   "pygments_lexer": "ipython3",
   "version": "3.9.12"
  },
  "orig_nbformat": 4
 },
 "nbformat": 4,
 "nbformat_minor": 2
}
