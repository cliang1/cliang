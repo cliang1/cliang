{
 "cells": [
  {
   "cell_type": "markdown",
   "metadata": {},
   "source": [
    "---\n",
    "toc: true\n",
    "comments: true\n",
    "layout: post\n",
    "title: College Board Corrections\n",
    "type: tangibles \n",
    "courses: { compsci: {week: 10} }\n",
    "description: A review of which questions i missed on the Collegeboard Test\n",
    "---\n"
   ]
  },
  {
   "cell_type": "markdown",
   "metadata": {},
   "source": [
    "# Question 3:\n",
    "\n",
    "Which of the following would be the best use of citizen science?\n",
    "\n",
    "\n",
    "\n",
    "A - An experiment that requires all participants to be working in the same laboratory\n",
    "\n",
    "B - An experiment that requires expensive equipment to conduct\n",
    "\n",
    "C - An experiment that requires data measurements to be taken in many different locations\n",
    "\n",
    "D - An experiment that requires specialized knowledge and training to conduct\n",
    "\n",
    "\n",
    "I'm not sure what citizen science is, but after researching it, I found it was a branch that involved the participatino of the general public. In computer science, this means the public is involved in the gathering of data, so C would be the most reasonable answer. "
   ]
  },
  {
   "cell_type": "markdown",
   "metadata": {},
   "source": [
    "# Question 6:\n",
    "\n",
    "Which of the following best describes the role of the Internet Engineering Task Force (IETF) ?\n",
    "\n",
    "Developing standards and protocols for Internet communication\n",
    "\n",
    "Preventing copyrighted materials from being illegally distributed online\n",
    "\n",
    "Preventing malicious software from being distributed online\n",
    "\n",
    "Verifying the ownership of encrypted keys used in secured messages\n",
    "\n",
    "I had no idea what the IETF was, but after researching it, was responsible for the standards that made up internet protocol, so A is the most reasonable answer. "
   ]
  },
  {
   "cell_type": "markdown",
   "metadata": {},
   "source": [
    "# Question 15\n",
    "\n",
    "Which of the following is a true statement about Internet communication?\n",
    "\n",
    "\n",
    "Devices from different manufacturers are required to run the same operating system to communicate over the Internet.\n",
    "\n",
    "Every device connected to the Internet is assigned a digital certificate by a certificate authority.\n",
    "\n",
    "Every device connected to the Internet is assigned an Internet protocol (IP) address.\n",
    "\n",
    "Every device connected to the Internet requires a high-bandwidth connection to enable redundant routing to each device.\n",
    "\n",
    "I didn't really know what any of the answers meant, so after reashearching, I found that C was correct, since every device has an IP address that is used to routing, identifying devices, and etc."
   ]
  }
 ],
 "metadata": {
  "language_info": {
   "name": "python"
  }
 },
 "nbformat": 4,
 "nbformat_minor": 2
}
