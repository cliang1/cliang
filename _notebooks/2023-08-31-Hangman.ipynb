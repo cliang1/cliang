{
 "cells": [
  {
   "cell_type": "markdown",
   "metadata": {},
   "source": [
    "---\n",
    "toc: true\n",
    "comments: false\n",
    "layout: post\n",
    "title: Hangman\n",
    "description: Hangman project (hopefully)\n",
    "type: hacks\n",
    "courses: { compsci: {week: 2} }\n",
    "---"
   ]
  },
  {
   "cell_type": "code",
   "execution_count": null,
   "metadata": {},
   "outputs": [],
   "source": [
    "import random\n",
    "\n",
    "# List of words for the game\n",
    "word_list = [\"python\", \"programming\", \"hangman\", \"developer\", \"challenge\"]\n",
    "\n",
    "def choose_word(word_list):\n",
    "    return random.choice(word_list)\n",
    "\n",
    "def display_word(word, guesses):\n",
    "    display = \"\"\n",
    "    for letter in word:\n",
    "        if letter in guesses:\n",
    "            display += letter\n",
    "        else:\n",
    "            display += \"_\"\n",
    "    return display\n",
    "\n",
    "def hangman():\n",
    "    word_to_guess = choose_word(word_list)\n",
    "    guessed_letters = []\n",
    "    attempts = 6\n",
    "\n",
    "    print(\"Welcome to Hangman!\")\n",
    "    print(display_word(word_to_guess, guessed_letters))\n",
    "\n",
    "    while attempts > 0:\n",
    "        guess = input(\"Guess a letter: \").lower()\n",
    "\n",
    "        if len(guess) == 1 and guess.isalpha():\n",
    "            if guess in guessed_letters:\n",
    "                print(\"You've already guessed that letter!\")\n",
    "            elif guess in word_to_guess:\n",
    "                guessed_letters.append(guess)\n",
    "                print(\"Good guess!\")\n",
    "                print(display_word(word_to_guess, guessed_letters))\n",
    "            else:\n",
    "                guessed_letters.append(guess)\n",
    "                attempts -= 1\n",
    "                print(\"Wrong guess! You have {} attempts left.\".format(attempts))\n",
    "                print(display_word(word_to_guess, guessed_letters))\n",
    "        else:\n",
    "            print(\"Please enter a valid single letter.\")\n",
    "\n",
    "        if \"_\" not in display_word(word_to_guess, guessed_letters):\n",
    "            print(\"Congratulations! You've guessed the word: {}\".format(word_to_guess))\n",
    "            break\n",
    "\n",
    "    if attempts == 0:\n",
    "        print(\"Game over! The word was: {}\".format(word_to_guess))\n",
    "\n",
    "if __name__ == \"__main__\":\n",
    "    hangman()"
   ]
  }
 ],
 "metadata": {
  "language_info": {
   "name": "python"
  },
  "orig_nbformat": 4
 },
 "nbformat": 4,
 "nbformat_minor": 2
}
