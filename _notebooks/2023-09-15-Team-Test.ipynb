{
 "cells": [
  {
   "cell_type": "markdown",
   "metadata": {},
   "source": [
    "---\n",
    "toc: true\n",
    "comments: false\n",
    "layout: post\n",
    "title: Team Test\n",
    "description: Team Test\n",
    "type: hacks\n",
    "courses: { compsci: {week: 4} }\n",
    "---\n"
   ]
  },
  {
   "cell_type": "code",
   "execution_count": null,
   "metadata": {
    "scrolled": true
   },
   "outputs": [],
   "source": [
    "import getpass\n",
    "\n",
    "# Define the quiz dictionary with questions as keys and answers as values\n",
    "quiz = {\n",
    "    \"Communication, consensus building, conflict resolution and negotiation is an example of \": \"collaboration\",\n",
    "    \"Should the acknowledgement of a code segment include the origin or original author’s name?\": \"yes\",\n",
    "    \"The variable age is to be used to represent a person’s age, years. Which of following is the most appropriate data type for age \": \"integer\",\n",
    "    \"The variable isOpen is to be used to indicate whether or not a store is currently open. Which of the following is the most appropriate data type for isOpen ?\": \"boolean\",\n",
    "    \"True or False? Program development is usually a solo endeavor.\" : \"false\",\n",
    "    \"A group of statements is called..\" : \"code segment.\"\n",
    "}\n",
    "\n",
    "# Function to administer the quiz\n",
    "def run_quiz():\n",
    "    total_questions = len(quiz)\n",
    "    correct = 0  # Initialize the variable to count correct answers\n",
    "    user_responses = []  # List to store user's answers\n",
    "\n",
    "    for i, (question, correct_answer) in enumerate(quiz.items(), start=1):\n",
    "        print(f\"\\nQuestion {i}: {question}\")\n",
    "        user_answer = input(\"Your answer: \").strip().lower()\n",
    "\n",
    "        # Append the user's answer to the list\n",
    "        user_responses.append(user_answer)\n",
    "\n",
    "        if user_answer == correct_answer:\n",
    "            print(\"Correct!\")\n",
    "            correct += 1\n",
    "        else:\n",
    "            print(f\"Incorrect! The correct answer is: {correct_answer}\")\n",
    "\n",
    "    # Calculate the score as a percentage\n",
    "    percentage_score = (correct / total_questions) * 100\n",
    "\n",
    "    # Display user responses\n",
    "    print(\"\\nUser Responses:\")\n",
    "    for i, response in enumerate(user_responses, start=1):\n",
    "        print(f\"Question {i}: {response}\")\n",
    "\n",
    "    print(f\"\\nQuiz completed!\\n{getpass.getuser()}, you scored {percentage_score:.2f}%.\")\n",
    "\n",
    "# Run the quiz\n",
    "run_quiz()\n"
   ]
  },
  {
   "cell_type": "code",
   "execution_count": null,
   "metadata": {},
   "outputs": [],
   "source": [
    "# for example...\n",
    "\n",
    "def test_even_odd(numbers_list):\n",
    "    # Count the number of elements in the list\n",
    "    num_elements = len(numbers_list)\n",
    "\n",
    "    # Check if it's even or odd using the modulo operator\n",
    "    if num_elements % 2 == 0:\n",
    "        print(\"The list has an even number of elements.\")\n",
    "    else:\n",
    "        print(\"The list has an odd number of elements.\")\n",
    "\n",
    "\n",
    "# Example usage\n",
    "even_list = [1, 2, 3, 4, 5, 6]\n",
    "odd_list = [1, 2, 3, 4, 5]\n",
    "\n",
    "print(\"Even list:\")\n",
    "test_even_odd(even_list)\n",
    "\n",
    "print(\"\\nOdd list:\")\n",
    "test_even_odd(odd_list)\n"
   ]
  }
 ],
 "metadata": {
  "kernelspec": {
   "display_name": "Python 3 (ipykernel)",
   "language": "python",
   "name": "python3"
  },
  "language_info": {
   "codemirror_mode": {
    "name": "ipython",
    "version": 3
   },
   "file_extension": ".py",
   "mimetype": "text/x-python",
   "name": "python",
   "nbconvert_exporter": "python",
   "pygments_lexer": "ipython3",
   "version": "3.10.12"
  }
 },
 "nbformat": 4,
 "nbformat_minor": 2
}
