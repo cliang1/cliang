{
 "cells": [
  {
   "cell_type": "markdown",
   "metadata": {},
   "source": [
    "---\n",
    "toc: true\n",
    "comments: false\n",
    "layout: post\n",
    "title: JS Output w/jquery\n",
    "description: Two tables on different dogs. :)\n",
    "type: hacks\n",
    "courses: { compsci: {week: 3} }\n",
    "---\n"
   ]
  },
  {
   "cell_type": "code",
   "execution_count": 4,
   "metadata": {
    "scrolled": true
   },
   "outputs": [
    {
     "name": "stdout",
     "output_type": "stream",
     "text": [
      "Question 1? 1\n",
      "Wrong! The correct answer is  1.\n",
      "Question 2? 6\n",
      "Wrong! The correct answer is  2.\n",
      "Question 3? 5\n",
      "Wrong! The correct answer is  3.\n",
      "Question 4? 2\n",
      "Wrong! The correct answer is  4.\n",
      "Question 5? 5\n",
      "Wrong! The correct answer is  5.\n",
      "Question 6? 3\n",
      "Wrong! The correct answer is 6.\n",
      "You scored 0/6.\n",
      "0\n"
     ]
    },
    {
     "ename": "NameError",
     "evalue": "name 'questions' is not defined",
     "output_type": "error",
     "traceback": [
      "\u001b[0;31m---------------------------------------------------------------------------\u001b[0m",
      "\u001b[0;31mNameError\u001b[0m                                 Traceback (most recent call last)",
      "\u001b[0;32m/tmp/ipykernel_1249/3409826956.py\u001b[0m in \u001b[0;36m<module>\u001b[0;34m\u001b[0m\n\u001b[1;32m     76\u001b[0m \u001b[0;34m\u001b[0m\u001b[0m\n\u001b[1;32m     77\u001b[0m \u001b[0;34m\u001b[0m\u001b[0m\n\u001b[0;32m---> 78\u001b[0;31m \u001b[0mrun_quiz\u001b[0m\u001b[0;34m(\u001b[0m\u001b[0;34m)\u001b[0m\u001b[0;34m\u001b[0m\u001b[0;34m\u001b[0m\u001b[0m\n\u001b[0m",
      "\u001b[0;32m/tmp/ipykernel_1249/3409826956.py\u001b[0m in \u001b[0;36mrun_quiz\u001b[0;34m()\u001b[0m\n\u001b[1;32m     63\u001b[0m         \u001b[0mprint\u001b[0m\u001b[0;34m(\u001b[0m\u001b[0mi\u001b[0m\u001b[0;34m)\u001b[0m\u001b[0;34m\u001b[0m\u001b[0;34m\u001b[0m\u001b[0m\n\u001b[1;32m     64\u001b[0m \u001b[0;34m\u001b[0m\u001b[0m\n\u001b[0;32m---> 65\u001b[0;31m         \u001b[0mrsp\u001b[0m \u001b[0;34m=\u001b[0m \u001b[0mquestion_with_response\u001b[0m\u001b[0;34m(\u001b[0m\u001b[0mi\u001b[0m\u001b[0;34m)\u001b[0m\u001b[0;34m\u001b[0m\u001b[0;34m\u001b[0m\u001b[0m\n\u001b[0m\u001b[1;32m     66\u001b[0m         \u001b[0;32mif\u001b[0m \u001b[0mrsp\u001b[0m \u001b[0;34m==\u001b[0m \u001b[0mcorrect_answers\u001b[0m\u001b[0;34m[\u001b[0m\u001b[0mi\u001b[0m\u001b[0;34m]\u001b[0m\u001b[0;34m:\u001b[0m\u001b[0;34m\u001b[0m\u001b[0;34m\u001b[0m\u001b[0m\n\u001b[1;32m     67\u001b[0m             \u001b[0mprint\u001b[0m\u001b[0;34m(\u001b[0m\u001b[0;34m\"Correct!\"\u001b[0m\u001b[0;34m)\u001b[0m\u001b[0;34m\u001b[0m\u001b[0;34m\u001b[0m\u001b[0m\n",
      "\u001b[0;32m/tmp/ipykernel_1249/3409826956.py\u001b[0m in \u001b[0;36mquestion_with_response\u001b[0;34m(prompt)\u001b[0m\n\u001b[1;32m     49\u001b[0m \u001b[0;34m\u001b[0m\u001b[0m\n\u001b[1;32m     50\u001b[0m \u001b[0;32mdef\u001b[0m \u001b[0mquestion_with_response\u001b[0m\u001b[0;34m(\u001b[0m\u001b[0mprompt\u001b[0m\u001b[0;34m)\u001b[0m\u001b[0;34m:\u001b[0m\u001b[0;34m\u001b[0m\u001b[0;34m\u001b[0m\u001b[0m\n\u001b[0;32m---> 51\u001b[0;31m     \u001b[0mprint\u001b[0m\u001b[0;34m(\u001b[0m\u001b[0;34mf\"\\nQuestion {prompt+1}: {questions[prompt]}\"\u001b[0m\u001b[0;34m)\u001b[0m\u001b[0;34m\u001b[0m\u001b[0;34m\u001b[0m\u001b[0m\n\u001b[0m\u001b[1;32m     52\u001b[0m     \u001b[0mmsg\u001b[0m \u001b[0;34m=\u001b[0m \u001b[0minput\u001b[0m\u001b[0;34m(\u001b[0m\u001b[0;34m\"\\nYour answer: \"\u001b[0m\u001b[0;34m)\u001b[0m\u001b[0;34m.\u001b[0m\u001b[0mlower\u001b[0m\u001b[0;34m(\u001b[0m\u001b[0;34m)\u001b[0m\u001b[0;34m\u001b[0m\u001b[0;34m\u001b[0m\u001b[0m\n\u001b[1;32m     53\u001b[0m     \u001b[0;32mreturn\u001b[0m \u001b[0mmsg\u001b[0m\u001b[0;34m\u001b[0m\u001b[0;34m\u001b[0m\u001b[0m\n",
      "\u001b[0;31mNameError\u001b[0m: name 'questions' is not defined"
     ]
    }
   ],
   "source": [
    "import getpass\n",
    "\n",
    "# Define the quiz dictionary with questions as keys and answers as values\n",
    "quiz = {\n",
    "    \"Question 1?\": \"1\",\n",
    "    \"Question 2?\": \"2\",\n",
    "    \"Question 3?\": \"3\",\n",
    "    \"Question 4?\": \"4\",\n",
    "    \"Question 5?\": \"5\",\n",
    "    \"Question 6?\": \"6\"\n",
    "}\n",
    "\n",
    "# Function to administer the quiz\n",
    "def run_quiz():\n",
    "    total_questions = len(quiz)\n",
    "    correct_answers = quiz.values()\n",
    "    score = 0\n",
    "\n",
    "    for i, (question, correct_answer) in enumerate(quiz.items(), start=1):\n",
    "        print(f\"\\nQuestion {i}: {question}\")\n",
    "        user_answer = input(\"Your answer: \").strip().lower()\n",
    "\n",
    "        if user_answer == correct_answer:\n",
    "            print(\"Correct!\")\n",
    "            score += 1\n",
    "        else:\n",
    "            print(f\"Incorrect! The correct answer is: {correct_answer}\")\n",
    "\n",
    "    # Calculate the score as a percentage\n",
    "    percentage_score = (score / total_questions) * 100\n",
    "    print(f\"\\nQuiz completed!\\n{getpass.getuser()}, you scored {percentage_score:.2f}%.\")\n",
    "\n",
    "# Run the quiz\n",
    "run_quiz()\n"
   ]
  }
 ],
 "metadata": {
  "kernelspec": {
   "display_name": "Python 3 (ipykernel)",
   "language": "python",
   "name": "python3"
  },
  "language_info": {
   "codemirror_mode": {
    "name": "ipython",
    "version": 3
   },
   "file_extension": ".py",
   "mimetype": "text/x-python",
   "name": "python",
   "nbconvert_exporter": "python",
   "pygments_lexer": "ipython3",
   "version": "3.10.12"
  }
 },
 "nbformat": 4,
 "nbformat_minor": 2
}
