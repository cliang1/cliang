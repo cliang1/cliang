{
 "cells": [
  {
   "cell_type": "markdown",
   "metadata": {},
   "source": [
    "---\n",
    "toc: true\n",
    "comments: false\n",
    "layout: post\n",
    "title: Median\n",
    "description: Median project (hopefully)\n",
    "type: hacks\n",
    "courses: { compsci: {week: 3} }\n",
    "---"
   ]
  },
  {
   "cell_type": "code",
   "execution_count": 2,
   "metadata": {},
   "outputs": [],
   "source": [
    "def find_median(numbers):\n",
    "    # Sort the list in ascending order\n",
    "    numbers.sort()\n",
    "\n",
    "    # Check if the number of elements is odd or even\n",
    "    num_elements = len(numbers)\n",
    "\n",
    "    if num_elements % 2 == 1:\n",
    "        # If odd, return the middle number\n",
    "        median = numbers[num_elements // 2]\n",
    "    else:\n",
    "        # If even, return the average of the two middle numbers\n",
    "        middle1 = numbers[num_elements // 2 - 1]\n",
    "        middle2 = numbers[num_elements // 2]\n",
    "        median = (middle1 + middle2) / 2.0\n",
    "\n",
    "    return median\n",
    "\n",
    "# Create an empty list to store the numbers\n",
    "numbers = []\n",
    "\n",
    "# Prompt the user for input until they enter a non-numeric value\n",
    "while True:\n",
    "    try:\n",
    "        num = float(input(\"Enter a number (or a non-numeric value to stop): \"))\n",
    "        numbers.append(num)\n",
    "    except ValueError:\n",
    "        break\n",
    "\n",
    "# Check if there are numbers to calculate the median\n",
    "if numbers:\n",
    "    median = find_median(numbers)\n",
    "    print(\"Median:\", median)\n",
    "else:\n",
    "    print(\"No numbers entered.\")"
   ]
  }
 ],
 "metadata": {
  "kernelspec": {
   "display_name": "Python 3",
   "language": "python",
   "name": "python3"
  },
  "language_info": {
   "codemirror_mode": {
    "name": "ipython",
    "version": 3
   },
   "file_extension": ".py",
   "mimetype": "text/x-python",
   "name": "python",
   "nbconvert_exporter": "python",
   "pygments_lexer": "ipython3",
   "version": "3.10.12"
  },
  "orig_nbformat": 4
 },
 "nbformat": 4,
 "nbformat_minor": 2
}
