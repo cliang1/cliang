{
 "cells": [
  {
   "cell_type": "markdown",
   "metadata": {},
   "source": [
    "---\n",
    "toc: false\n",
    "comments: true\n",
    "layout: post\n",
    "title: Student Teaching Pt. 2 Key Indicators\n",
    "description: key indicators\n",
    "type: hacks\n",
    "courses: { compsci: {week: 18} }\n",
    "---"
   ]
  },
  {
   "cell_type": "markdown",
   "metadata": {},
   "source": [
    "|  | Score | Grader Verification | Extras | Key Indicators: Blog, GitHub File(s) and Key Commits |\n",
    "|----------|----------|----------|----------|----------|\n",
    "| The Internet    | 0.97     | Ryan L   | College Board Video and researched components of domain online    | [ Blog Post](https://cliang1.github.io/cliang//2023/11/28/Internet.html)  |\n",
    "| Routing and Computing   | 0.95  | Sri S  | College Board Video and talked to friend about the HW questions, how systems link together an communicate | [ Blog Post](https://cliang1.github.io/cliang//2023/12/05/RoutingandComputing_IPYNB_2_.html) |\n",
    "| Beneficial and Harmful Effects   | 1.0  | Jason G    | College Board Video and extra research online about the effects of technology on business      |[ Blog Post](https://cliang1.github.io/cliang//2023/12/01/Beneficial_and_Harmful_Effects_IPYNB_2_.html)  |\n",
    "| Digital Divide    | 0.95     | Aditya R, Sai T      | College Board Video and extra research into a business of a friend's that is trying to fix used computers to give to refugees     | [ Blog Post](https://cliang1.github.io/cliang//2023/12/01/Beneficial_and_Harmful_Effects_IPYNB_2_.html)  |\n",
    "| Computing Bias    | 0.95      | Tanvi P      | College Board Video and extra research bias, especially from a marketing standpoint      |[ Blog Post](https://cliang1.github.io/cliang//2023/12/12/ComputingBiasteamteach_IPYNB_2_.html)  |\n",
    "| Crowdsourcing    | 1.0   | Samhita L     | College Board Video and extra research into how we might use crowdsourcing in our upcoming CPT project  | [ Blog Post](https://cliang1.github.io/cliang//2023/12/14/Class_6_Crowdsourcing_IPYNB_2_.html) |\n",
    "| Safe Computing   | 0.93  | Advik      | College Board Video and a Youtube video about which sites are safe     | [ Blog Post](https://cliang1.github.io/cliang//2023/12/21/Safe_ComputingP5_IPYNB_2_.html) |\n",
    "| CB Quiz    | 57/67   (0.85/1)   | CB      | Researched the answers I got wrong and collaborated with others to figure out the ones we didn't get.| [ Blog Post](https://cliang1.github.io/cliang//2023/12/20/Test-Corrections_IPYNB_2_.html)   |\n",
    "| Totals   | Median Score: 0.95/1 |  Number complete: 8  | Extra effort count:8/8 |Key tangible assets count: 8/8  |\n",
    "\n"
   ]
  },
  {
   "cell_type": "code",
   "execution_count": null,
   "metadata": {},
   "outputs": [],
   "source": []
  }
 ],
 "metadata": {
  "language_info": {
   "name": "python"
  }
 },
 "nbformat": 4,
 "nbformat_minor": 2
}
