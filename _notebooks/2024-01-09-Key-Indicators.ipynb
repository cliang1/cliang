{
 "cells": [
  {
   "cell_type": "markdown",
   "metadata": {},
   "source": [
    "---\n",
    "toc: false\n",
    "comments: true\n",
    "layout: post\n",
    "title: Student Teaching Pt. 2 Key Indicators\n",
    "description: key indicators\n",
    "type: hacks\n",
    "courses: { compsci: {week: 18} }\n",
    "---"
   ]
  },
  {
   "cell_type": "markdown",
   "metadata": {},
   "source": [
    "|  | Score | Grader Verification | Extras | Key Indicators: Blog, GitHub File(s) and Key Commits |\n",
    "|----------|----------|----------|----------|----------|\n",
    "| The Internet    | 0.97     | Ryan L   | Here     | Value    |\n",
    "| Routing and Computing   | 0.95  | Sri S  | Markdown | Text     |\n",
    "| Beneficial and Harmful Effects   | 1.0  | Jason G    | Row      | Data     |\n",
    "| Digital Divide    | 0.95     | Aditya R, Sai T      | Each     | Cell     |\n",
    "| Computing Bias    | 0.95      | Tanvi P      | 789      | 101     |\n",
    "| Crowdsourcing    | 1.0   | Samhita L     | Entries  | Forth   |\n",
    "| Safe Computing   | Content  | Goes     | Here     | And     |\n",
    "| CB Quiz    | 57/67      | CB      | Customize| It      |\n",
    "| Totals   | Median Score:  |  Number complete:   | Extra effort count: |Key tangible assets count:   |\n",
    "\n"
   ]
  },
  {
   "cell_type": "code",
   "execution_count": null,
   "metadata": {},
   "outputs": [],
   "source": []
  }
 ],
 "metadata": {
  "language_info": {
   "name": "python"
  }
 },
 "nbformat": 4,
 "nbformat_minor": 2
}
