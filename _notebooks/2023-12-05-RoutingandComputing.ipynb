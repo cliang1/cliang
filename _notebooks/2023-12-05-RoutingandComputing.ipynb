{
 "cells": [
  {
   "cell_type": "markdown",
   "metadata": {},
   "source": [
    "---\n",
    "toc: true\n",
    "comments: false\n",
    "layout: post\n",
    "title: 4.1 - The Internet\n",
    "description: Internet and basic protocols\n",
    "type: tangibles\n",
    "courses: { compsci: {week: 14} }\n",
    "---\n"
   ]
  },
  {
   "cell_type": "markdown",
   "metadata": {},
   "source": [
    "\n",
    "Question 1: What is parallel computing?\n",
    "\n",
    "Parallel computing is when the computer divides tasks into subtasks, and runs these subtasks at the same time to be more efficient. This is helpful when processing large amounts of complicated data in a short amount of time. Computers that use this generally include more than one processing unit, memory, or communication infrastructure. \n",
    "\n",
    "Question 2: If there is a computer with 3 cores that can each take one task, and the tasks are 25ms, 632ms and 100ms in run time respectively, how long will the program take to run?\n",
    "\n",
    "It will take a total of 100ms to run, since the tasks are run parallel, so it will take as long as the longest task takes to complete. \n",
    "\n",
    "Question 3: Is sequential or parallel computing more efficient, and why?\n",
    "\n",
    "\n",
    "Parallel computing is generally more efficient because the data is processed faster, as more data is processed in any given moment. However, you could argue for a singular simple task, parallel computing might overcomplicate it by splitting it into multiple tasks, which would make sequential computing more efficient. \n",
    "\n",
    "Question 4: What is the term called when a network has multiple paths leading up to one destination? \n",
    "\n",
    "Multipath routing (Used in fault-tolerant systems)\n",
    "  <img src=\"../assets\\images\\ftolhw.png\">\n",
    "\n",
    "Question 5: Using the image above, is this fault tolerant? Yes"
   ]
  }
 ],
 "metadata": {
  "language_info": {
   "name": "python"
  }
 },
 "nbformat": 4,
 "nbformat_minor": 2
}
