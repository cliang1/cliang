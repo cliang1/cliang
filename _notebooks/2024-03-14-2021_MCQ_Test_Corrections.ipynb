{
 "cells": [
  {
   "cell_type": "markdown",
   "metadata": {},
   "source": [
    "---\n",
    "toc: true\n",
    "comments: true\n",
    "layout: post\n",
    "title: 2021 MCQ Test Corrections\n",
    "description: Test correctiosn ofr the questions missed on 2021 College Coard MCQ \n",
    "type: tangibles\n",
    "courses: { compsci: {week: 21} }\n",
    "---\n",
    "\n",
    "\n"
   ]
  },
  {
   "cell_type": "markdown",
   "metadata": {},
   "source": [
    "# Question 70\n",
    "\n",
    "<img width=\"718\" alt=\"image\" src=\"https://github.com/cliang1/cliang/assets/142470304/1b9adf88-f589-4b6b-80e5-02e95273b197\">\n",
    "\n",
    "The code written for A first sets all the letters to the left of A as \"left\", using the substring funciton. Of the oldStr, it keeps the first letter until the letter before the letter \"n\", and discards the rest. Similarly, in \"right\", the funciton uses substring to keep every letter to the right of \"n\". By using concat on these two fragments, the only letter that is discarded is \"n\".\n",
    "\n",
    "For Answer C, the code sets every letter to the right of \"n\" as newStr, and then concats this newStr with every letter in oldStr to the left of \"n\", setting it as a new \"n\"."
   ]
  },
  {
   "cell_type": "markdown",
   "metadata": {},
   "source": [
    "# Question 60\n",
    "\n",
    "RunRoutr is a fitness tracking application for smartphones that creates suggested running routes so that users can run with each other. Upon downloading the application, each user creates a username, a personal profile, and a contact list of friends who also use the application. The application uses the smartphone’s GPS unit to track a user’s location, running speed, and distance traveled. Users can use the application to review information and statistics about their previous runs.\n",
    "\n",
    "At the beginning of a run, users indicate the distance they want to run from their current location, and the application suggests a running route. Once a user accepts a suggested route, the application shares the suggested route with other compatible users in the area so that they can run together. Users are considered compatible if they are on each other’s contact lists or if they typically run at similar speeds.\n",
    "\n",
    "A basic RunRoutr account is free, but it displays advertisements that are targeted to individual users based on data collected by the application. For example, if a user’s running route begins or ends near a particular store, the application may display an advertisement for that store. Users have the ability to pay a monthly fee for a premium account, which removes advertisements from the application.\n",
    "\n",
    "Benefits of RunRoutr would be health benefits due to increased exercise."
   ]
  },
  {
   "cell_type": "markdown",
   "metadata": {},
   "source": [
    "# Question 55\n",
    "\n",
    "A code segment is intended to transform the list utensils so that the last element of the list is moved to the beginning of the list.\n",
    "\n",
    "For example, if utensils initially contains  [\"fork\", \"spoon\", \"tongs\", \"spatula\", \"whisk\"], it should contain [\"whisk\", \"fork\", \"spoon\", \"tongs\", \"spatula\"] after executing the code segment.\n",
    "\n",
    "Which of the following code segments transforms the list as intended?\n",
    "\n",
    "Answer C works because it first sets the length of the utensils list as \"len\", and then removes the last iten in utensils. It then sets the last item of utenisls as \"temp\", and inserts it into the first position of the utensils list. "
   ]
  },
  {
   "cell_type": "markdown",
   "metadata": {},
   "source": [
    "# Question 48\n",
    "\n",
    "Which of the following is an example of an attack using a rogue access point?\n",
    "\n",
    "A fogue access point is a wireless access point plugged into an organization's network that the security team does not know exists, so by using one to attack something, a user would be able to view data through weak or unrpotected security measures. \n"
   ]
  },
  {
   "cell_type": "markdown",
   "metadata": {},
   "source": [
    "# Question 44\n",
    "\n",
    "A program developed for a Web store represents customer account balances using a format that approximates real numbers. While testing the program, a software developer discovers that some values appear to be mathematically imprecise. Which of the following is the most likely cause of the imprecision?\n",
    "\n",
    "Roundoff errors are caused by rounding mathematical numbers to an integer or a number with less decimals, which would cause imprecise values. "
   ]
  },
  {
   "cell_type": "markdown",
   "metadata": {},
   "source": [
    "# Question 17\n",
    "\n",
    "<img width=\"710\" alt=\"image\" src=\"https://github.com/cliang1/cliang/assets/142470304/639d9ef5-9544-44b9-9b13-ad34ba7f3c71\">\n",
    "\n",
    "There have to be at least four points removed in order to disconnect B and C, since A, D, E, and F, all have to be removed in order to disconnect the two points. "
   ]
  },
  {
   "cell_type": "markdown",
   "metadata": {},
   "source": [
    "# Question 14\n",
    "\n",
    "<img width=\"697\" alt=\"image\" src=\"https://github.com/cliang1/cliang/assets/142470304/e29f7c69-96a9-41d6-988b-aa6004813b19\">\n",
    "\n",
    "\n",
    "Line 6 determines if the list is decreasing, but returns true if it is decreasing, so line 12 and line 8 should be interchanged. "
   ]
  },
  {
   "cell_type": "markdown",
   "metadata": {},
   "source": [
    "# Question 9\n",
    "\n",
    "Which of the following best explains how an analog audio signal is typically represented by a computer?\n",
    "\n",
    "Analog audio uses a variable scale of information to reproduce the original sound waves from the source, so they are generally measured in regular intervals, "
   ]
  },
  {
   "cell_type": "markdown",
   "metadata": {},
   "source": [
    "# Question 7\n",
    "\n",
    "<img width=\"728\" alt=\"image\" src=\"https://github.com/cliang1/cliang/assets/142470304/0175bfd2-be93-4e00-a732-79f157523afa\">\n",
    "\n",
    "Step 3 ensures that the counter adds one every step that is made, so since there are 4 moves made, the counter should show 4."
   ]
  },
  {
   "cell_type": "markdown",
   "metadata": {},
   "source": [
    "# Question 3\n",
    "\n",
    "<img width=\"477\" alt=\"image\" src=\"https://github.com/cliang1/cliang/assets/142470304/e3cc2109-a9f5-4947-a0ab-6402a004f1fc\">\n",
    "\n",
    "\n",
    "100, which is first, is set to temp, which is later set to second, so second ends up as 100. First is originall 100, but is later replaced by second, which has previously been replaced by temp, which is 100, so both first and second are 100.   "
   ]
  }
 ],
 "metadata": {
  "language_info": {
   "name": "python"
  }
 },
 "nbformat": 4,
 "nbformat_minor": 2
}
