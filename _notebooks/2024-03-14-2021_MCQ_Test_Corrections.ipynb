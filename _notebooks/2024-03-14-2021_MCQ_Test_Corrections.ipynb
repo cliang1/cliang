{
 "cells": [
  {
   "cell_type": "markdown",
   "metadata": {},
   "source": [
    "---\n",
    "toc: true\n",
    "comments: true\n",
    "layout: post\n",
    "title: 2021 MCQ Test Corrections\n",
    "description: Test correctiosn ofr the questions missed on 2021 College Coard MCQ \n",
    "type: tangibles\n",
    "courses: { compsci: {week: 21} }\n",
    "---\n",
    "\n",
    "\n"
   ]
  },
  {
   "cell_type": "code",
   "execution_count": null,
   "metadata": {},
   "outputs": [],
   "source": []
  }
 ],
 "metadata": {
  "language_info": {
   "name": "python"
  }
 },
 "nbformat": 4,
 "nbformat_minor": 2
}
