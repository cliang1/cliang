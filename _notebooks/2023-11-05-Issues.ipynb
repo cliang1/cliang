{
 "cells": [
  {
   "cell_type": "markdown",
   "metadata": {},
   "source": [
    "---\n",
    "toc: true\n",
    "comments: true\n",
    "layout: default\n",
    "title: Issues\n",
    "type: A compilation of what I reviewed at Night at the Museum \n",
    "courses: { compsci: {week: 9} }\n",
    "description: A review of what I've learned \n",
    "---"
   ]
  },
  {
   "cell_type": "markdown",
   "metadata": {},
   "source": [
    "# World Map\n",
    "HOOK:\n",
    "Points: 3.9\n",
    "Reason:\n",
    "Really interesting frontpage looked very professional. The interactive parts were interesting and well-designed.\n",
    "\n",
    "KNOWLEDGE:\n",
    "Points: 3.8\n",
    "Reason:\n",
    "They definitely knew what they were talking about, especially regarding the API and how it worked.\n",
    "\n",
    "VALUE:\n",
    "Points: 0.85\n",
    "Reason:\n",
    "I think it was a great way to display the world and help people learn more about geography.\n",
    "\n",
    "WOW FACTOR:\n",
    "Reason:\n",
    "Front-end was really amazing, clean and well-designed. Overall really inspiring.\n",
    "\n",
    "9.4/10"
   ]
  },
  {
   "cell_type": "markdown",
   "metadata": {},
   "source": [
    "# Chicken Game\n",
    "HOOK: 3.9\n",
    "Points: 3.6-4.0\n",
    "Reason: Really cool front page overall, well-designed, and exciting presentation.\n",
    "\n",
    "KNOWLEDGE: 3.9\n",
    "Points: 3.6-4.0\n",
    "Reason: initially had problems showing content on the monitor, but fixed the issue later on. Great job showing the backend code on another computer. Knew what they were talking about despite minor issues.\n",
    "\n",
    "VALUE: 0.9\n",
    "Points: 0.6-1.0\n",
    "Reason: I thought it was really entertaining, especially with the chickens shooting eggs, and the feature where they would spin in place after hitting a coyote.\n",
    "\n",
    "WOW FACTOR:4\n",
    "Reason: Really cool design - I loved the different characters for the chickens and the pixelated eggs.\n",
    "\n",
    "8.7/9"
   ]
  },
  {
   "cell_type": "markdown",
   "metadata": {},
   "source": [
    "# Pocket Therapist\n",
    " Frontend\n",
    " Backend\n",
    " API\n",
    " Database\n",
    "HOOK:\n",
    "Points: 4\n",
    "Reason:\n",
    "Really interesting, the front page was also eye-catching with bright colors and the people already testing the code looked amazed. The use of the nodes on the face and tracking the person's features to recognize emotions was really cool and looked very advanced.\n",
    "\n",
    "KNOWLEDGE:\n",
    "Points: 4.0\n",
    "Reason:\n",
    "Used a JS database called DER, read facial expressions from 30 different nodes on the face, and used AI to determine the emotion the person was feeling based on the placement of the nodes.\n",
    "\n",
    "VALUE:\n",
    "Points: 0.9\n",
    "Reason:\n",
    "Helps people readily access an online therapist by reading emotions. given the recent trends in mental health, it's very relevant.\n",
    "\n",
    "WOW FACTOR: 4\n",
    "Reason: Really cool, really entertaining to test and watch other people play with. Absolutely amazing.\n",
    "\n",
    "8.9/9"
   ]
  },
  {
   "cell_type": "markdown",
   "metadata": {},
   "source": []
  },
  {
   "cell_type": "code",
   "execution_count": null,
   "metadata": {},
   "outputs": [],
   "source": []
  }
 ],
 "metadata": {
  "language_info": {
   "name": "python"
  }
 },
 "nbformat": 4,
 "nbformat_minor": 2
}
