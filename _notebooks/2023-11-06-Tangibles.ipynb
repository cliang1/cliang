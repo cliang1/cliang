{
 "cells": [
  {
   "cell_type": "markdown",
   "metadata": {},
   "source": [
    "---\n",
    "toc: true\n",
    "comments: true\n",
    "layout: post\n",
    "title: Tangibles\n",
    "type: tangibles \n",
    "courses: { compsci: {week: 10} }\n",
    "description: A review of what I've learned in this past trimester\n",
    "---\n"
   ]
  },
  {
   "cell_type": "markdown",
   "metadata": {},
   "source": [
    "\n",
    "# Tangibles:\n",
    "\n",
    "Overall, I learned a lot about coding this trimester. Initially, I had no idea how to code, but after a few weeks, I began to see connections between various ideas and how to integrate them. I think it was especially interesting to learn about APIs, espite how difficult it was, since we were able to go online, and when we eventually presented our data through and API, it was more rewarding than coding a simple algorithm. While I still think I'm not nearly as experienced in coding as I could be, I also learned to word with teammates through AGILE, and I think many of the content taught in thsi class would be helpful even outside of the computer science industry.\n"
   ]
  },
  {
   "cell_type": "markdown",
   "metadata": {},
   "source": [
    "## API Development\n",
    "\n",
    "- Overall, one of out greatest acheivements was in the backend, where Eshika and I worked to find a database and be able ot show the data in the frontend. Since neither of us really had much experience with code, we stayed up a lot to explain things to each other and fix our code. \n",
    "\n",
    "- Through this, I learned the shortcomings of our current code, how the CSV file is hard to update, and how to work closely with my friends to overcome our challenges in code.\n",
    "\n",
    "- Personally, I think I'm a lot more comfortable with backend code now, and can understand how our code works and adapt it to other situations. "
   ]
  },
  {
   "cell_type": "markdown",
   "metadata": {},
   "source": [
    "## Key Commits\n",
    " - Frontend code for the county data - This was the beginning of our presentation of the data. Before, we could only display numbers, but the pie chart was more comprehensive and manageable. It was really interesting to learn how to display these things and the basic framewrok of analyzing and displaying data. \n",
    " - Backend implementation of the county.api data - this happened before we merged, but it was a huge step in figuring out how everything worked, and understanding the code well enough to explain and adapt"
   ]
  },
  {
   "cell_type": "markdown",
   "metadata": {},
   "source": [
    "# AP Collegeboard Pseudo-code\n",
    "\n",
    "Through the student teaches, I realized we amde an oversight in not implementing the Collegeboard pseudocode, so I wanted to go back and try to complete one of the robot questions to become more familiar with the concept before the end of the year. "
   ]
  },
  {
   "cell_type": "markdown",
   "metadata": {},
   "source": [
    "| <img src=\"https://i.ibb.co/3TzmV2b/Screen-Shot-2023-10-16-at-7-45-01-PM.png\" width = 600px height = auto > |"
   ]
  },
  {
   "cell_type": "code",
   "execution_count": null,
   "metadata": {},
   "outputs": [],
   "source": [
    "#Pseudocode\n",
    "\n",
    "MOVE_FORWARD()\n",
    "ROTATE_RIGHT()\n",
    "MOVE_FORWARD()\n",
    "ROTATE_LEFT()\n",
    "MOVE_FORWARD()\n",
    "ROTATE_RIGHT()\n",
    "MOVE_FORWARD()\n",
    "ROTATE_LEFT()\n",
    "MOVE_FORWARD()\n",
    "ROTATE_RIGHT()\n",
    "MOVE_FORWARD()\n",
    "ROTATE_LEFT()\n",
    "MOVE_FORWARD()\n",
    "ROTATE_RIGHT()\n",
    "MOVE_FORWARD()\n",
    "ROTATE_LEFT()"
   ]
  },
  {
   "cell_type": "markdown",
   "metadata": {},
   "source": [
    "I think one of my greatest achievements was figuring out iterations in the beginning of the year while we were coding the quizzes for Javascript. Iterations showed up a lot after that wek, so I felt better knowing something about it beforehand. "
   ]
  },
  {
   "cell_type": "code",
   "execution_count": 3,
   "metadata": {},
   "outputs": [
    {
     "name": "stdout",
     "output_type": "stream",
     "text": [
      "0\n"
     ]
    },
    {
     "ename": "NameError",
     "evalue": "name 'question_with_response' is not defined",
     "output_type": "error",
     "traceback": [
      "\u001b[0;31m---------------------------------------------------------------------------\u001b[0m",
      "\u001b[0;31mNameError\u001b[0m                                 Traceback (most recent call last)",
      "\u001b[0;32m/tmp/ipykernel_6526/1478025149.py\u001b[0m in \u001b[0;36m<module>\u001b[0;34m\u001b[0m\n\u001b[1;32m     42\u001b[0m     \u001b[0;31m# Prints the user's name, then you scored, and the score as a percentage, up to two decimal points\u001b[0m\u001b[0;34m\u001b[0m\u001b[0;34m\u001b[0m\u001b[0m\n\u001b[1;32m     43\u001b[0m \u001b[0;34m\u001b[0m\u001b[0m\n\u001b[0;32m---> 44\u001b[0;31m \u001b[0mrun_quiz\u001b[0m\u001b[0;34m(\u001b[0m\u001b[0;34m)\u001b[0m\u001b[0;34m\u001b[0m\u001b[0;34m\u001b[0m\u001b[0m\n\u001b[0m",
      "\u001b[0;32m/tmp/ipykernel_6526/1478025149.py\u001b[0m in \u001b[0;36mrun_quiz\u001b[0;34m()\u001b[0m\n\u001b[1;32m     29\u001b[0m         \u001b[0mprint\u001b[0m\u001b[0;34m(\u001b[0m\u001b[0mi\u001b[0m\u001b[0;34m)\u001b[0m\u001b[0;34m\u001b[0m\u001b[0;34m\u001b[0m\u001b[0m\n\u001b[1;32m     30\u001b[0m         \u001b[0;31m#tells us which iteration it is on\u001b[0m\u001b[0;34m\u001b[0m\u001b[0;34m\u001b[0m\u001b[0m\n\u001b[0;32m---> 31\u001b[0;31m         \u001b[0mrsp\u001b[0m \u001b[0;34m=\u001b[0m \u001b[0mquestion_with_response\u001b[0m\u001b[0;34m(\u001b[0m\u001b[0mi\u001b[0m\u001b[0;34m)\u001b[0m\u001b[0;34m\u001b[0m\u001b[0;34m\u001b[0m\u001b[0m\n\u001b[0m\u001b[1;32m     32\u001b[0m         \u001b[0;32mif\u001b[0m \u001b[0mrsp\u001b[0m \u001b[0;34m==\u001b[0m \u001b[0mcorrect_answers\u001b[0m\u001b[0;34m[\u001b[0m\u001b[0mi\u001b[0m\u001b[0;34m]\u001b[0m\u001b[0;34m:\u001b[0m\u001b[0;34m\u001b[0m\u001b[0;34m\u001b[0m\u001b[0m\n\u001b[1;32m     33\u001b[0m             \u001b[0mprint\u001b[0m\u001b[0;34m(\u001b[0m\u001b[0;34m\"Correct!\"\u001b[0m\u001b[0;34m)\u001b[0m\u001b[0;34m\u001b[0m\u001b[0;34m\u001b[0m\u001b[0m\n",
      "\u001b[0;31mNameError\u001b[0m: name 'question_with_response' is not defined"
     ]
    }
   ],
   "source": [
    "import getpass, sys, os\n",
    "\n",
    "# Questions and answers\n",
    "\n",
    "questions = [\n",
    "    \"Which command allows people to import commands and funcitons?\",\n",
    "    \"What command defines a funciton?\",\n",
    "    \"Which command prints a specified messge on the screen?\",\n",
    "    \"Which command helps differentiate right from wrong?\",\n",
    "    \"Which command returns input from the user?\",\n",
    "    \"A collection of characters is called ____?\"\n",
    "]\n",
    "\n",
    "correct_answers = [\n",
    "    \"import\",\n",
    "    \"def\",\n",
    "    \"print\",\n",
    "    \"if\",\n",
    "    \"return\",\n",
    "    \"string\"\n",
    "]\n",
    "\n",
    "\n",
    "#Quiz function\n",
    "def run_quiz():\n",
    "    correct = 0\n",
    "    #keeps count of how many are correct\n",
    "    for i in range(len(questions)):\n",
    "        print(i)\n",
    "        #tells us which iteration it is on        \n",
    "        rsp = question_with_response(i)\n",
    "        if rsp == correct_answers[i]:\n",
    "            print(\"Correct!\")\n",
    "            correct +=1\n",
    "        else:\n",
    "            print(f\"Incorrect, the correct answer is: {correct_answers[i]}\")\n",
    "            # if it is correct, a point is added to correct. If not, the user is told it is incorrect, and the incorrect answer is shown\n",
    "    score = (correct/6) \n",
    "    #makes it easier to formate the number as a percentage\n",
    "    print(\"\\nQuiz completed!\")\n",
    "    print(getpass.getuser() + \" you scored \" + \"{:.2%}\".format(score))\n",
    "    # Prints the user's name, then you scored, and the score as a percentage, up to two decimal points\n",
    "\n",
    "run_quiz() "
   ]
  },
  {
   "cell_type": "markdown",
   "metadata": {},
   "source": [
    "## Overall Takeaways\n",
    "- I learned to work togehter with my teammates, and how important it was to communicate among oureselves.\n",
    "- Over the course of this trimester, I realized that we tended to set goals above out capabilities and then struggle to meet the deadlines later. Eventually, I hope to learn more about code and figure out what is possible within the given time frame.\n",
    "\n",
    "- Through the use of CSV files an postman, I learned how to use APIs, and explain how the code works\n",
    "\n",
    "- In the future, I hope to become more experienced in Python and Javascript and better understand the inner workings of AWS deployment and how backend really works. I also want to memorize more of the syntax for Javascript and Python to better understand the code. \n",
    "\n",
    "- It would also be helpful to become better at debugging, and to understand the structure of the code to make it more concise and easier to maniplate or adapt"
   ]
  }
 ],
 "metadata": {
  "kernelspec": {
   "display_name": "Python 3",
   "language": "python",
   "name": "python3"
  },
  "language_info": {
   "codemirror_mode": {
    "name": "ipython",
    "version": 3
   },
   "file_extension": ".py",
   "mimetype": "text/x-python",
   "name": "python",
   "nbconvert_exporter": "python",
   "pygments_lexer": "ipython3",
   "version": "3.10.12"
  }
 },
 "nbformat": 4,
 "nbformat_minor": 2
}
