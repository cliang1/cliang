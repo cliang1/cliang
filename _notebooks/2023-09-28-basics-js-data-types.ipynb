{
 "cells": [
  {
   "cell_type": "markdown",
   "metadata": {},
   "source": [
    "---\n",
    "title: Javascript Data Types/Lists\n",
    "hide: True\n",
    "description: A Tech Talk on javascript data types and how to use with lists\n",
    "type: ccc\n",
    "permalink: /basics/datatypes\n",
    "author: Rohan Juneja\n",
    "---"
   ]
  },
  {
   "cell_type": "markdown",
   "metadata": {},
   "source": [
    "# string datatype\n",
    "- We discussed that strings store text\n",
    "- It is useful to know a few functions that can be used on string manipulation (see example below)\n",
    "- We can see the type of data using `typeof` operator"
   ]
  },
  {
   "cell_type": "code",
   "execution_count": 1,
   "metadata": {
    "vscode": {
     "languageId": "javascript"
    }
   },
   "outputs": [
    {
     "data": {
      "text/html": [
       "<script>\n",
       "\n",
       "// assign variable\n",
       "var hello = \"Hello World\";\n",
       "console.log(\"variable: hello\")\n",
       "console.log(hello)\n",
       "\n",
       "// seeing the type of this data\n",
       "console.log(\"variable: hello check typeof\")\n",
       "console.log(typeof hello)\n",
       "\n",
       "// add strings together\n",
       "console.log(\"string concatenation: hello + Rohan!\")\n",
       "console.log(hello + \" Rohan!\")\n",
       "\n",
       "// getting a certain component of this text\n",
       "// (here the _ is a standin for the space character)\n",
       "// H  e  l  l  o  _  W  o  r  l  d\n",
       "// 0  1  2  3  4  5  6  7  8  9  10\n",
       "// if we want the hello component, we want characters 0-4, so we use the following function\n",
       "// (note how we use 0 and 5 as arguments, the last character is NOT INCLUSIVE)\n",
       "console.log(\"substring: hello 0, 5\")\n",
       "console.log(hello.substring(0, 5))\n",
       "\n",
       "// useful functions to make string lowercase or uppercase\n",
       "console.log(\"string convert to upper case: hello toUpperCase\")\n",
       "console.log(hello.toUpperCase())\n",
       "console.log(\"string convert to lower case: hello toLowerCase\")\n",
       "console.log(hello.toLowerCase())\n",
       "\n",
       "// useful function to check if one string is contained in another\n",
       "console.log(\"string includes: hello includes Rohan\")\n",
       "console.log(hello.includes(\"Rohan\"))\n",
       "console.log(\"string includes: hello includes Hello\")\n",
       "console.log(hello.includes(\"Hello\"))\n",
       "</script>\n"
      ],
      "text/plain": [
       "<IPython.core.display.HTML object>"
      ]
     },
     "metadata": {},
     "output_type": "display_data"
    }
   ],
   "source": [
    "%%js\n",
    "\n",
    "// assign variable\n",
    "var hello = \"Hello World\";\n",
    "console.log(\"variable: hello\")\n",
    "console.log(hello)\n",
    "\n",
    "// seeing the type of this data\n",
    "console.log(\"variable: hello check typeof\")\n",
    "console.log(typeof hello)\n",
    "\n",
    "// add strings together\n",
    "console.log(\"string concatenation: hello + Rohan!\")\n",
    "console.log(hello + \" Rohan!\")"
   ]
  },
  {
   "cell_type": "markdown",
   "metadata": {},
   "source": [
    "## .substring()"
   ]
  },
  {
   "cell_type": "code",
   "execution_count": null,
   "metadata": {
    "vscode": {
     "languageId": "javascript"
    }
   },
   "outputs": [],
   "source": [
    "%%js\n",
    "var hello = \"Hello World\";\n",
    "\n",
    "// getting a certain component of this text\n",
    "// (here the _ is a standin for the space character)\n",
    "// H  e  l  l  o  _  W  o  r  l  d\n",
    "// 0  1  2  3  4  5  6  7  8  9  10\n",
    "// if we want the hello component, we want characters 0-4, so we use the following function\n",
    "// (note how we use 0 and 5 as arguments, the last character is NOT INCLUSIVE)\n",
    "console.log(\"substring: hello 0, 5\")\n",
    "console.log(hello.substring(0, 5))"
   ]
  },
  {
   "cell_type": "markdown",
   "metadata": {},
   "source": [
    "## .toUpperCase() and .toLowerCase()"
   ]
  },
  {
   "cell_type": "code",
   "execution_count": null,
   "metadata": {
    "vscode": {
     "languageId": "javascript"
    }
   },
   "outputs": [],
   "source": [
    "%%js\n",
    "var hello = \"Hello World\";\n",
    "\n",
    "// useful functions to make string lowercase or uppercase\n",
    "console.log(\"string convert to upper case: hello toUpperCase\")\n",
    "console.log(hello.toUpperCase())\n",
    "console.log(\"string convert to lower case: hello toLowerCase\")\n",
    "console.log(hello.toLowerCase())"
   ]
  },
  {
   "cell_type": "markdown",
   "metadata": {},
   "source": [
    "## .includes()"
   ]
  },
  {
   "cell_type": "code",
   "execution_count": null,
   "metadata": {
    "vscode": {
     "languageId": "javascript"
    }
   },
   "outputs": [],
   "source": [
    "%%js\n",
    "var hello = \"Hello World\";\n",
    "\n",
    "// useful function to check if one string is contained in another\n",
    "console.log(\"string includes: hello includes Rohan\")\n",
    "console.log(hello.includes(\"Rohan\"))\n",
    "console.log(\"string includes: hello includes Hello\")\n",
    "console.log(hello.includes(\"Hello\"))"
   ]
  },
  {
   "cell_type": "markdown",
   "metadata": {},
   "source": [
    "# number datatype\n",
    "- we discussed that numbers store numbers\n",
    "- here are some useful ideas in javascript to deal with numbers"
   ]
  },
  {
   "cell_type": "code",
   "execution_count": 2,
   "metadata": {
    "vscode": {
     "languageId": "javascript"
    }
   },
   "outputs": [
    {
     "data": {
      "text/html": [
       "<script>\n",
       "console.log(\"Numbers info\")\n",
       "\n",
       "// assign numbers to varialbes\n",
       "console.log(\"variable: num1\")\n",
       "var num1 = 9\n",
       "console.log(num1)\n",
       "console.log(\"variable: num2\")\n",
       "var num2 = 6\n",
       "console.log(num2)\n",
       "\n",
       "\n",
       "// simple operations with numbers\n",
       "console.log(\"Operations\")\n",
       "console.log(\"subtract: num1 - num2\")\n",
       "console.log(num1 - num2)\n",
       "console.log(\"add: num1 + num2\")\n",
       "console.log(num1 + num2)\n",
       "console.log(\"divide: num1 / num2\")\n",
       "console.log(num1 / num2)\n",
       "console.log(\"multiply: num1 * num2\")\n",
       "console.log(num1 * num2)\n",
       "console.log(\"remainder (modulo): num1 % num2\")\n",
       "console.log(num1 % num2)\n",
       "\n",
       "// converting numbers to text\n",
       "console.log(\"number convert string: num1\")\n",
       "console.log(num1.toString())\n",
       "\n",
       "// rounding a number\n",
       "console.log(\"round(num1 / num2)\")\n",
       "console.log(Math.round(num1 / num2))\n",
       "\n",
       "// rounding a number to decimal palces\n",
       "console.log(\"set decimals to 2 places (num1 / num2)\")\n",
       "console.log((num1 / num2).toFixed(2))\n",
       "</script>\n"
      ],
      "text/plain": [
       "<IPython.core.display.HTML object>"
      ]
     },
     "metadata": {},
     "output_type": "display_data"
    }
   ],
   "source": [
    "%%js\n",
    "console.log(\"Numbers info\")\n",
    "\n",
    "// assign numbers to varialbes\n",
    "console.log(\"variable: num1\")\n",
    "var num1 = 9\n",
    "console.log(num1)\n",
    "console.log(\"variable: num2\")\n",
    "var num2 = 6\n",
    "console.log(num2)\n",
    "\n",
    "\n",
    "// simple operations with numbers\n",
    "console.log(\"Operations\")\n",
    "console.log(\"subtract: num1 - num2\")\n",
    "console.log(num1 - num2)\n",
    "console.log(\"add: num1 + num2\")\n",
    "console.log(num1 + num2)\n",
    "console.log(\"divide: num1 / num2\")\n",
    "console.log(num1 / num2)\n",
    "console.log(\"multiply: num1 * num2\")\n",
    "console.log(num1 * num2)\n",
    "console.log(\"remainder (modulo): num1 % num2\")\n",
    "console.log(num1 % num2)"
   ]
  },
  {
   "cell_type": "markdown",
   "metadata": {},
   "source": [
    "# number formatting"
   ]
  },
  {
   "cell_type": "code",
   "execution_count": null,
   "metadata": {
    "vscode": {
     "languageId": "javascript"
    }
   },
   "outputs": [],
   "source": [
    "%%js\n",
    "console.log(\"variable: num1\")\n",
    "var num1 = 9\n",
    "console.log(num1)\n",
    "console.log(\"variable: num2\")\n",
    "var num2 = 6\n",
    "console.log(num2)\n",
    "\n",
    "// converting numbers to text\n",
    "console.log(\"number convert string: num1\")\n",
    "console.log(num1.toString())\n",
    "\n",
    "// rounding a number\n",
    "console.log(\"round(num1 / num2)\")\n",
    "console.log(Math.round(num1 / num2))\n",
    "\n",
    "// rounding a number to decimal palces\n",
    "console.log(\"set decimals to 2 places (num1 / num2)\")\n",
    "console.log((num1 / num2).toFixed(2))"
   ]
  },
  {
   "cell_type": "markdown",
   "metadata": {},
   "source": [
    "# Array datatype\n",
    "- an array is just a list of other datatypes\n",
    "- put all the items in square brackets\n",
    "- some useful methods below"
   ]
  },
  {
   "cell_type": "code",
   "execution_count": 13,
   "metadata": {
    "vscode": {
     "languageId": "javascript"
    }
   },
   "outputs": [
    {
     "data": {
      "text/html": [
       "<script>\n",
       "console.log(\"Array: assigning a list of strings\")\n",
       "var str1 = \"1st string\"\n",
       "var arr_data = [str1, \"2nd string\", \"3rd string\"]\n",
       "// seeing what is in the array\n",
       "console.log(arr_data)\n",
       "\n",
       "// getting one thing from an array\n",
       "// \"A string\" \"Other Data\" \"more data\"\n",
       "//    0           1            2\n",
       "console.log(\"Array: referencing a cell #1\")\n",
       "console.log([ arr_data[1] ])  // zero based counting: 1 is 2nd cell\n",
       "\n",
       "// adding something new to the array\n",
       "console.log(\"Array: adding to list\")\n",
       "arr_data.push(\"4th string\")\n",
       "console.log(arr_data)\n",
       "\n",
       "// removing the first element of array\n",
       "console.log(\"Array: removing from front of list\")\n",
       "arr_data.shift()\n",
       "console.log(arr_data)\n",
       "\n",
       "// removing the last element of array\n",
       "console.log(\"Array: removing from end of list\")\n",
       "arr_data.pop()\n",
       "console.log(arr_data)\n",
       "</script>\n",
       "\n"
      ],
      "text/plain": [
       "<IPython.core.display.HTML object>"
      ]
     },
     "metadata": {},
     "output_type": "display_data"
    }
   ],
   "source": [
    "%%js\n",
    "console.log(\"Array: assigning a list of strings\")\n",
    "var str1 = \"1st string\"\n",
    "var arr_data = [str1, \"2nd string\", \"3rd string\"]\n",
    "// seeing what is in the array\n",
    "console.log(arr_data)\n",
    "\n",
    "// getting one thing from an array\n",
    "// \"A string\" \"Other Data\" \"more data\"\n",
    "//    0           1            2\n",
    "console.log(\"Array: referencing a cell #1\")\n",
    "console.log([ arr_data[1] ])  // zero based counting: 1 is 2nd cell\n"
   ]
  },
  {
   "cell_type": "markdown",
   "metadata": {},
   "source": [
    "# array manipulation"
   ]
  },
  {
   "cell_type": "code",
   "execution_count": null,
   "metadata": {
    "vscode": {
     "languageId": "javascript"
    }
   },
   "outputs": [],
   "source": [
    "%%js\n",
    "console.log(\"Array: assigning a list of strings\")\n",
    "var str1 = \"1st string\"\n",
    "var arr_data = [str1, \"2nd string\", \"3rd string\"]\n",
    "// seeing what is in the array\n",
    "console.log(arr_data)\n",
    "\n",
    "// adding something new to the array\n",
    "console.log(\"Array: adding to list\")\n",
    "arr_data.push(\"4th string\")\n",
    "console.log(arr_data)\n",
    "\n",
    "// removing the first element of array\n",
    "console.log(\"Array: removing from front of list\")\n",
    "arr_data.shift()\n",
    "console.log(arr_data)\n",
    "\n",
    "// removing the last element of array\n",
    "console.log(\"Array: removing from end of list\")\n",
    "arr_data.pop()\n",
    "console.log(arr_data)"
   ]
  },
  {
   "cell_type": "markdown",
   "metadata": {},
   "source": [
    "# Object datatype\n",
    "\n",
    "- store records as key-value pairs\n",
    "- are defined by enclosing data in curly braces `{}`\n",
    "- allow access and modification using dot `.` or square bracket `[]` notation"
   ]
  },
  {
   "cell_type": "code",
   "execution_count": 18,
   "metadata": {
    "vscode": {
     "languageId": "javascript"
    }
   },
   "outputs": [
    {
     "data": {
      "text/html": [
       "<script>\n",
       "console.log(\"Object: assigning key-value objects\")\n",
       "var obj = {\n",
       "    name: \"Safin\",\n",
       "    age: 13\n",
       "};\n",
       "\n",
       "// The following is stored in the object called \"obj\"\n",
       "// {\n",
       "//     name: \"Safin\",\n",
       "//     age: 13\n",
       "// }\n",
       "//\n",
       "// The key \"name\" is associated with the string value \"Safin\"\n",
       "// The key \"age\" is associated with the number value 13\n",
       "// Notice that keys are of the type \"string\"\n",
       "\n",
       "// print obj to the console\n",
       "console.log(obj);\n",
       "// -> { name: 'Safin', age: 13 }\n",
       "// Notice that single quotes ' and double quotes \" can be used interchangeably\n",
       "\n",
       "// To access certain values within an object, also known as an object's fields,\n",
       "// you can use the name of the object suffixed with a dot and the name of the field\n",
       "// or using the square bracket notation shown below\n",
       "console.log(\"Object: using key name to access the name value (key notation)\")\n",
       "console.log(obj[\"name\"]);\n",
       "console.log(\"Object: using key name to access the name value (dot notation)\")\n",
       "console.log(obj.name);\n",
       "// -> Safin\n",
       "\n",
       "// Fields of an object can be manipulated similar to variables\n",
       "console.log(\"Object: mutating the key name from Safin to John\")\n",
       "obj.name = \"John\"\n",
       "console.log(obj);\n",
       "console.log(obj.name);\n",
       "// -> John\n",
       "\n",
       "// A key-value pair can be added to the object\n",
       "console.log(\"Object: mutating the key name from Safin to John\")\n",
       "obj[\"ghid\"] = \"jm1021\"\n",
       "console.log(obj);\n",
       "// Observe new key\n",
       "</script>\n"
      ],
      "text/plain": [
       "<IPython.core.display.HTML object>"
      ]
     },
     "metadata": {},
     "output_type": "display_data"
    }
   ],
   "source": [
    "%%js\n",
    "console.log(\"Object: assigning key-value objects\")\n",
    "var obj = {\n",
    "    name: \"Safin\",\n",
    "    age: 13\n",
    "};\n",
    "\n",
    "// The following is stored in the object called \"obj\"\n",
    "// {\n",
    "//     name: \"Safin\",\n",
    "//     age: 13\n",
    "// }\n",
    "//\n",
    "// The key \"name\" is associated with the string value \"Safin\"\n",
    "// The key \"age\" is associated with the number value 13\n",
    "// Notice that keys are of the type \"string\"\n",
    "\n",
    "// print obj to the console\n",
    "console.log(obj);\n",
    "// -> { name: 'Safin', age: 13 }\n",
    "// Notice that single quotes ' and double quotes \" can be used interchangeably"
   ]
  },
  {
   "cell_type": "markdown",
   "metadata": {},
   "source": [
    "# object access"
   ]
  },
  {
   "cell_type": "code",
   "execution_count": null,
   "metadata": {
    "vscode": {
     "languageId": "javascript"
    }
   },
   "outputs": [],
   "source": [
    "%%js\n",
    "console.log(\"Object: assigning key-value objects\")\n",
    "var obj = {\n",
    "    name: \"Safin\",\n",
    "    age: 13\n",
    "};\n",
    "\n",
    "// The following is stored in the object called \"obj\"\n",
    "// {\n",
    "//     name: \"Safin\",\n",
    "//     age: 13\n",
    "// }\n",
    "//\n",
    "// The key \"name\" is associated with the string value \"Safin\"\n",
    "// The key \"age\" is associated with the number value 13\n",
    "// Notice that keys are of the type \"string\"\n",
    "\n",
    "// print obj to the console\n",
    "console.log(obj);\n",
    "// -> { name: 'Safin', age: 13 }\n",
    "// Notice that single quotes ' and double quotes \" can be used interchangeably\n",
    "\n",
    "// To access certain values within an object, also known as an object's fields,\n",
    "// you can use the name of the object suffixed with a dot and the name of the field\n",
    "// or using the square bracket notation shown below\n",
    "console.log(\"Object: using key name to access the name value (key notation)\")\n",
    "console.log(obj[\"name\"]);\n",
    "console.log(\"Object: using key name to access the name value (dot notation)\")\n",
    "console.log(obj.name);\n",
    "// -> Safin\n",
    "\n",
    "// Fields of an object can be manipulated similar to variables\n",
    "console.log(\"Object: mutating the key name from Safin to John\")\n",
    "obj.name = \"John\"\n",
    "console.log(obj);\n",
    "console.log(obj.name);\n",
    "// -> John\n",
    "\n",
    "// A key-value pair can be added to the object\n",
    "console.log(\"Object: mutating the key name from Safin to John\")\n",
    "obj[\"ghid\"] = \"jm1021\"\n",
    "console.log(obj);\n",
    "// Observe new key"
   ]
  },
  {
   "cell_type": "markdown",
   "metadata": {},
   "source": [
    "# Hacks\n",
    "Create a JavaScript snippet below with the following requirements:\n",
    "- Create an object representing yourself as a person. The object should have keys for your name, age, current classes, interests, and two more of your choosing\n",
    "- Your object must contain keys whose values are arrays. The arrays can be arrays of strings, numbers, or even other objects if you would like\n",
    "- Print the entire object with console.log after declaring it\n",
    "- Manipulate the arrays within the object and print the entire object with console.log as well as the specific changed key afterwards\n",
    "- Perform mathematical operations on fields in your object such as +, -, /, % etc. and print the results with console.log along with a message contextualizing them\n",
    "- Use typeof to determine the types of at least 3 fields in your object"
   ]
  },
  {
   "cell_type": "code",
   "execution_count": 2,
   "metadata": {
    "vscode": {
     "languageId": "javascript"
    }
   },
   "outputs": [
    {
     "data": {
      "application/javascript": "// put your javascript code here (make sure to run it and check your outputs in the console)\n",
      "text/plain": [
       "<IPython.core.display.Javascript object>"
      ]
     },
     "metadata": {},
     "output_type": "display_data"
    }
   ],
   "source": [
    "%%js\n",
    "const person = {\n",
    "  name: \"Cindy\",\n",
    "  age: 15,\n",
    "  Classes: [\"APCSP\", \"APBio\", \"APCalc\"],\n",
    "  interests: [\"Reading\", \"Sleeping\"],\n",
    "  favoriteNumbers: [7, 3, 36],\n",
    "  additionalInfo: {\n",
    "    hasPets: false,\n",
    "    favoriteColor: \"Purple\"\n",
    "  }\n",
    "};\n",
    "\n",
    "// Print the entire object\n",
    "console.log(\"Person Object:\");\n",
    "console.log(person);\n",
    "\n",
    "// Manipulate arrays within the object\n",
    "person.Classes.push(\"APWH\");\n",
    "person.interests.pop();\n",
    "\n",
    "// Print the entire object after manipulation\n",
    "console.log(\"\\nPerson Object after Manipulation:\");\n",
    "console.log(person);\n",
    "\n",
    "// Perform mathematical operations on fields\n",
    "const ageInFiveYears = person.age + 5;\n",
    "const averageFavoriteNumber = person.favoriteNumbers.reduce((sum, num) => sum + num, 0) / person.favoriteNumbers.length;\n",
    "\n",
    "// Print the results with contextual messages\n",
    "console.log(`\\nAge in five years: ${ageInFiveYears} years`);\n",
    "console.log(`Average of favorite numbers: ${averageFavoriteNumber}`);\n",
    "\n",
    "// Use typeof to determine the types of fields\n",
    "console.log(`\\nTypes of fields:`);\n",
    "console.log(`Name: ${typeof person.name}`);\n",
    "console.log(`Age: ${typeof person.age}`);\n",
    "console.log(`Has Pets: ${typeof person.additionalInfo.hasPets}`);\n"
   ]
  },
  {
   "cell_type": "markdown",
   "metadata": {},
   "source": [
    "<img src=\"data:image/png;base64,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\" alt=\"Image\">\n"
   ]
  }
 ],
 "metadata": {
  "kernelspec": {
   "display_name": "Python 3 (ipykernel)",
   "language": "python",
   "name": "python3"
  },
  "language_info": {
   "codemirror_mode": {
    "name": "ipython",
    "version": 3
   },
   "file_extension": ".py",
   "mimetype": "text/x-python",
   "name": "python",
   "nbconvert_exporter": "python",
   "pygments_lexer": "ipython3",
   "version": "3.10.12"
  }
 },
 "nbformat": 4,
 "nbformat_minor": 4
}
