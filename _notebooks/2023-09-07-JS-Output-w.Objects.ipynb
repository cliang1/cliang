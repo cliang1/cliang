{
 "cells": [
  {
   "cell_type": "markdown",
   "metadata": {},
   "source": [
    "---\n",
    "toc: true\n",
    "comments: false\n",
    "layout: post\n",
    "title: JS Output w/Objects Prject \n",
    "description: Data project (hopefully)\n",
    "type: hacks\n",
    "courses: { compsci: {week: 3} }\n",
    "---"
   ]
  },
  {
   "cell_type": "code",
   "execution_count": 1,
   "metadata": {},
   "outputs": [
    {
     "data": {
      "application/javascript": "console.log(\"Table\");\n\n/* class: Dog\n * Description: A collection of Dog data\n*/\n{\nclass Dog {\n  /* method: constructor\n   * parameters: Species, Weight - lbs, Height - Inches\n   * description: returns object when \"new Dog()\" is called with matching parameters\n   * assignment: this.species, this.weight, ... are properties retained in the returned object\n   * default: this.role is a default property retained in object, it is set to \"female\"\n  */\n  constructor(species, weight, height, ) {\n    this.species = species;\n    this.weight = weight;\n    this.height = height;\n    this.role = female;\n  }\n\n  }\n  \n  /* method: getter\n   * description: turns properties of object into JSON object\n   * return value: JSON object\n  */\n  getJSON() {\n    const obj = {type: typeof this, species: this.species, weight: this.weight, height: this.height, role: this.role};\n    const json = JSON.stringify(obj);\n    return json;\n  }\n\n  /* method: logIT\n   * description: this Dog object is logged to console\n  */\n  logIt() {\n    //Dog Object\n    console.info(this);\n    //Log to Jupter\n    element.append(\"Dog json <br>\");\n    element.append(this.getJSON() + \"<br>\");  \n    //alert(this.getJSON());\n  }\n    \n\n\n  /* method: logIT\n   * description: this Dog object is logged to console\n  */\n  logIt() {\n    //Dog object\n    console.log(this);\n    \n    //Dog json\n    element.append(\"Dog object in JSON<br>\");\n    element.append(this.json + \"<br>\");  \n    //alert(this.json);\n  }\n}\n\n/* function: constructDogTable\n * Description: Create data for Dog \n * Returns: A Dog Object\n*/\nfunction constructDog() {\n        // define a student Array of Person objects\n    const students = [ \n        new Dog(\"Golden Retriever\", \"55\", 202),\n        new Dog(\"German Shepard\", \"49\", 22),\n        new Dog(\"Border Collie\", \"27\", 18),\n        new Dog(\"Husky\", \"35\", 20),\n        new Dog(\"Labrador Retriever\", \"25\", 22),\n        new Dog(\"Corgi\", \"26\", 9.8)\n    ];\n\n    // make a Dog from formerly defined objects\n    return new Dog;  // returns object\n}\n\n// assigns Dog to the object returned by \"constructDog()\" function\nconst Dog = constructDog();\n// output of Objects and JSON in Dog\nDog.logIt();\n",
      "text/plain": [
       "<IPython.core.display.Javascript object>"
      ]
     },
     "metadata": {},
     "output_type": "display_data"
    }
   ],
   "source": [
    "%%js\n",
    "console.log(\"Table\");\n",
    "\n",
    "/* class: Dog\n",
    " * Description: A collection of Dog data\n",
    "*/\n",
    "{\n",
    "class Dog {\n",
    "  /* method: constructor\n",
    "   * parameters: Species, Weight - lbs, Height - Inches\n",
    "   * description: returns object when \"new Dog()\" is called with matching parameters\n",
    "   * assignment: this.species, this.weight, ... are properties retained in the returned object\n",
    "   * default: this.role is a default property retained in object, it is set to \"female\"\n",
    "  */\n",
    "  constructor(species, weight, height, ) {\n",
    "    this.species = species;\n",
    "    this.weight = weight;\n",
    "    this.height = height;\n",
    "    this.role = female;\n",
    "  }\n",
    "\n",
    "  }\n",
    "  \n",
    "  /* method: getter\n",
    "   * description: turns properties of object into JSON object\n",
    "   * return value: JSON object\n",
    "  */\n",
    "  getJSON() {\n",
    "    const obj = {type: typeof this, species: this.species, weight: this.weight, height: this.height, role: this.role};\n",
    "    const json = JSON.stringify(obj);\n",
    "    return json;\n",
    "  }\n",
    "\n",
    "  /* method: logIT\n",
    "   * description: this Dog object is logged to console\n",
    "  */\n",
    "  logIt() {\n",
    "    //Dog Object\n",
    "    console.info(this);\n",
    "    //Log to Jupter\n",
    "    element.append(\"Dog json <br>\");\n",
    "    element.append(this.getJSON() + \"<br>\");  \n",
    "    //alert(this.getJSON());\n",
    "  }\n",
    "    \n",
    "\n",
    "\n",
    "  /* method: logIT\n",
    "   * description: this Dog object is logged to console\n",
    "  */\n",
    "  logIt() {\n",
    "    //Dog object\n",
    "    console.log(this);\n",
    "    \n",
    "    //Dog json\n",
    "    element.append(\"Dog object in JSON<br>\");\n",
    "    element.append(this.json + \"<br>\");  \n",
    "    //alert(this.json);\n",
    "  }\n",
    "}\n",
    "\n",
    "/* function: constructDogTable\n",
    " * Description: Create data for Dog \n",
    " * Returns: A Dog Object\n",
    "*/\n",
    "function constructDog() {\n",
    "        // define a student Array of Person objects\n",
    "    const students = [ \n",
    "        new Dog(\"Golden Retriever\", \"55\", 202),\n",
    "        new Dog(\"German Shepard\", \"49\", 22),\n",
    "        new Dog(\"Border Collie\", \"27\", 18),\n",
    "        new Dog(\"Husky\", \"35\", 20),\n",
    "        new Dog(\"Labrador Retriever\", \"25\", 22),\n",
    "        new Dog(\"Corgi\", \"26\", 9.8)\n",
    "    ];\n",
    "\n",
    "    // make a Dog from formerly defined objects\n",
    "    return new Dog;  // returns object\n",
    "}\n",
    "\n",
    "// assigns Dog to the object returned by \"constructDog()\" function\n",
    "const Dog = constructDog();\n",
    "// output of Objects and JSON in Dog\n",
    "Dog.logIt();"
   ]
  }
 ],
 "metadata": {
  "kernelspec": {
   "display_name": "Python 3",
   "language": "python",
   "name": "python3"
  },
  "language_info": {
   "codemirror_mode": {
    "name": "ipython",
    "version": 3
   },
   "file_extension": ".py",
   "mimetype": "text/x-python",
   "name": "python",
   "nbconvert_exporter": "python",
   "pygments_lexer": "ipython3",
   "version": "3.10.12"
  },
  "orig_nbformat": 4
 },
 "nbformat": 4,
 "nbformat_minor": 2
}
