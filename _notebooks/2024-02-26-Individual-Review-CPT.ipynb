{
 "cells": [
  {
   "cell_type": "markdown",
   "metadata": {},
   "source": [
    "---\n",
    "toc: true\n",
    "comments: true\n",
    "layout: post\n",
    "title: Individual Review CPT Project\n",
    "description: \n",
    "type: tangibles \n",
    "courses: { compsci: {week: 21} }\n",
    "---"
   ]
  },
  {
   "cell_type": "markdown",
   "metadata": {},
   "source": [
    "## Project Overview\n",
    "Our team decided on a webstie based on fitness, since many people are becoming more and more interested in their health since diabetes is becoming a problem. By exercising, eating healthy, sleeping, and keeping track of daily habits, people will be better able to take care of tehmselves and their lifestyles. While we originally thought about a Star Wars or Taylor Swift theme, we thought fitness wold be more helpful, and were able to collaborated on the website and help others. \n",
    "\n",
    "Planning stages Issue: [Planning](https://github.com/EshikaP1/2front/issues/4#issue-2154845619)\n",
    "\n",
    "Wix Page Setup: [Wix page](https://cindyl17204.wixsite.com/website/team-3)"
   ]
  },
  {
   "cell_type": "markdown",
   "metadata": {},
   "source": [
    "## My Feature\n",
    "\n",
    "Using the login featues provided in class as a reference, I created a sleep funciton to help people keep track of their sleep scheudle and maintain their health. By inputting the amount of sleep they got, they can see the related data that is kept in the backend. By helping people improve their sleep schedules, I can keep them accountable for their own health, leading to happier users. The clause in teh database about sleep disorders can also help people feel less alone in their problems, and support the community while also improving people's health. This funciton, in conjunciton with the funcitons of the team, help people live their best lives, improving their overall health with a fun website. \n",
    "\n",
    "The feature itself asks users to input how much sleep they got, and then presents a table with people who got a similar amount of sleep, along with a reminder or encouragement to maintain a healthy sleep scheudle. People can also add their own information to the database to help other users. \n",
    "\n",
    "## Timeline\n",
    "\n",
    "[Wix Planning Stage](https://cindyl17204.wixsite.com/website/team-3)"
   ]
  },
  {
   "cell_type": "markdown",
   "metadata": {},
   "source": [
    "# CollegeBoard Requirements - Program Code\n",
    "\n",
    "| **College Board**| Me |\n",
    "|----------|----------|\n",
    "| Instructions for input from one of the following: the user, a device, an online datas stream, a file.   | Row 1    |\n",
    "| Use of at least one list (or other collection type) to represent a collectino of data that is stored and used to manage program complexity and help fulfill the users purpose.   | Row 2    |\n",
    "| At least one procedure that contirubted to the program’s intened purpose where you have defined: the name, return type, one or more parameters:    | Row 3    |\n",
    "| An algorithm that includes sequencing, selection, and iteration that is in the body of the selected procedure    | Row 4    |\n",
    "| Calls to your student-developed prodcedure:    | Row 5    |\n",
    "| Instructions for output (tactile, audible, visual, or ) based on input and program functionality   | Row 6    |\n",
    "\n"
   ]
  },
  {
   "cell_type": "markdown",
   "metadata": {},
   "source": [
    "# CollegeBoard Requirements - Video\n",
    "\n",
    "| **College Board**| Me |\n",
    "|----------|----------|\n",
    "| Input to program   | Row 1    |\n",
    "| At least one aspect of the functionality of your program  | Row 2    |\n",
    "| Output produced by program: | Row 3    |\n",
    "| My video does not have:   | Row 4    |\n",
    "| My video is  | Row 5    |\n"
   ]
  },
  {
   "cell_type": "markdown",
   "metadata": {},
   "source": [
    "## Key Commits\n",
    "\n",
    "- [Creating the csv database for sleep](https://github.com/EshikaP1/2back/compare/2ae034879dd570a1fc6d6171e9cab3e79eeba265...ba5ee9ad42285df3a1348e86615867760f266a5c)\n",
    "- [Beginning to create the API](https://github.com/EshikaP1/2back/compare/ecd689a305719a006a6239c7890064f65249a5a7...4b11697c5ae7314ce50432f8399ef775ad61bf85)\n",
    "- [Improving welcome page by adding multiple pics](https://github.com/EshikaP1/2front/commit/d04ad66b9487e406c5c3cbe835f090f0f94d1019)\n",
    "- [Parallax scrolling for frontend](https://github.com/EshikaP1/2front/compare/a38018a05c349f79c77e53d716fc0c9e491ed8c0...3933663e1b9b494384d9c32399d8d9286d9b9a2d)\n",
    "- [Create css and get data from backend](https://github.com/EshikaP1/2front/compare/a15615ac2aa4ad63aa81abbf4ce81bb5499b39ed...7c6676c49780f6af6f85457a085d76dddb0bbdac)\n",
    "- [converted sleep to json file and configured the backend](https://github.com/EshikaP1/2back/compare/f0f58654396651933458f93b8de4afc593c277d8...71bbf79181c901a74bf0ac3e58a1e32e14c48a10)\n",
    "\n"
   ]
  }
 ],
 "metadata": {
  "language_info": {
   "name": "python"
  }
 },
 "nbformat": 4,
 "nbformat_minor": 2
}
