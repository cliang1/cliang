{
 "cells": [
  {
   "cell_type": "markdown",
   "metadata": {},
   "source": [
    "---\n",
    "toc: true\n",
    "comments: true\n",
    "layout: post\n",
    "title: 2020 CB Test corrections\n",
    "description: Collegebord test corrections\n",
    "type: tangibles\n",
    "courses: { compsci: {week: 17} }\n",
    "---\n"
   ]
  },
  {
   "cell_type": "markdown",
   "metadata": {},
   "source": [
    "\n",
    "# Question 65\n",
    "Which of the following can be used to store the string \"jackalope\" in the string variable animal ?\n",
    "B,C, since the order of the strings within the concat matter. \"B\" first stores the substing \"lope\" as animal, then concats \"a\" and \"lope\" to get \"alope\". Afterwards, it concats \"jack\" to \"alope\" to get \"jackalope\". \n",
    "\n",
    "C first stores \"jack\" as animal, then concats \"jack\" and \"a\", to get \"jacka\", and then concats \"jacka\" to \"lope\" to get \"jackalope\".\n"
   ]
  },
  {
   "cell_type": "markdown",
   "metadata": {},
   "source": [
    "\n",
    "# Question 58\n",
    "The following procedure is intended to return true if at least two of the three parameters are equal in value and is intended to return false otherwise."
   ]
  },
  {
   "cell_type": "code",
   "execution_count": null,
   "metadata": {
    "vscode": {
     "languageId": "plaintext"
    }
   },
   "outputs": [],
   "source": [
    "PROCEDURE AnyPairs (x, y, z)\n",
    "{\n",
    "IF (x = y)\n",
    "{\n",
    "RETURN (true)\n",
    "}\n",
    "ELSE\n",
    "{\n",
    "RETURN (y = z)\n",
    "}\n",
    "}"
   ]
  },
  {
   "cell_type": "markdown",
   "metadata": {},
   "source": [
    "The procedure doesn't have a function for if x=z, so only A wouldn't be correct."
   ]
  },
  {
   "cell_type": "markdown",
   "metadata": {},
   "source": [
    "# Question 56\n",
    "An online game collects data about each player’s performance in the game. A program is used to analyze the data to make predictions about how players will perform in a new version of the game.\n",
    "\n",
    "The procedure GetPrediction (idNum) returns a predicted score for the player with ID number idNum. Assume that all predicted scores are positive. The GetPrediction procedure takes approximately 1 minute to return a result. All other operations happen nearly instantaneously.\n",
    "\n",
    "Two versions of the program are shown below."
   ]
  },
  {
   "cell_type": "code",
   "execution_count": null,
   "metadata": {
    "vscode": {
     "languageId": "plaintext"
    }
   },
   "outputs": [],
   "source": [
    "Version I\n",
    "topScore \n",
    " 0\n",
    "idList \n",
    " [1298702, 1356846, 8848491, 8675309]\n",
    "FOR EACH id IN idList\n",
    "{\n",
    "score \n",
    " GetPrediction (id)\n",
    "IF (score > topScore)\n",
    "{\n",
    "topScore \n",
    " score\n",
    "}\n",
    "}\n",
    "DISPLAY (topScore)\n",
    "Version II\n",
    "idList \n",
    " [1298702, 1356846, 8848491, 8675309]\n",
    "topID \n",
    " idList[1]\n",
    "FOR EACH id IN idList\n",
    "{\n",
    "IF (GetPrediction (id) > GetPrediction (topID))\n",
    "{\n",
    "topID \n",
    " id\n",
    "}\n",
    "}\n",
    "DISPLAY (GetPrediction (topID))\n",
    "\n",
    "Which of the following best compares the execution times of the two versions of the program?"
   ]
  },
  {
   "cell_type": "markdown",
   "metadata": {},
   "source": []
  },
  {
   "cell_type": "markdown",
   "metadata": {},
   "source": [
    "# Question 52"
   ]
  },
  {
   "cell_type": "markdown",
   "metadata": {},
   "source": [
    "# Question 50"
   ]
  },
  {
   "cell_type": "markdown",
   "metadata": {},
   "source": [
    "# Question 47"
   ]
  },
  {
   "cell_type": "markdown",
   "metadata": {},
   "source": [
    "# Question 35"
   ]
  },
  {
   "cell_type": "markdown",
   "metadata": {},
   "source": [
    "# Question 29"
   ]
  },
  {
   "cell_type": "markdown",
   "metadata": {},
   "source": [
    "# Question 21"
   ]
  },
  {
   "cell_type": "markdown",
   "metadata": {},
   "source": [
    "# Question 18"
   ]
  }
 ],
 "metadata": {
  "language_info": {
   "name": "python"
  }
 },
 "nbformat": 4,
 "nbformat_minor": 2
}
