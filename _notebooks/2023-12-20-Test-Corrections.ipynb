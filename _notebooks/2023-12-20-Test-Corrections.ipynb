{
 "cells": [
  {
   "cell_type": "markdown",
   "metadata": {},
   "source": [
    "---\n",
    "toc: true\n",
    "comments: true\n",
    "layout: post\n",
    "title: 2020 CB Test corrections\n",
    "description: Collegebord test corrections\n",
    "type: tangibles\n",
    "courses: { compsci: {week: 17} }\n",
    "---\n"
   ]
  },
  {
   "cell_type": "markdown",
   "metadata": {},
   "source": [
    "\n",
    "# Question 65\n",
    "Which of the following can be used to store the string \"jackalope\" in the string variable animal ?\n",
    "B,C, since the order of the strings within the concat matter. \"B\" first stores the substing \"lope\" as animal, then concats \"a\" and \"lope\" to get \"alope\". Afterwards, it concats \"jack\" to \"alope\" to get \"jackalope\". \n",
    "\n",
    "C first stores \"jack\" as animal, then concats \"jack\" and \"a\", to get \"jacka\", and then concats \"jacka\" to \"lope\" to get \"jackalope\".\n"
   ]
  },
  {
   "cell_type": "markdown",
   "metadata": {},
   "source": [
    "\n",
    "# Question 58\n",
    "The following procedure is intended to return true if at least two of the three parameters are equal in value and is intended to return false otherwise."
   ]
  },
  {
   "cell_type": "code",
   "execution_count": null,
   "metadata": {
    "vscode": {
     "languageId": "plaintext"
    }
   },
   "outputs": [],
   "source": [
    "PROCEDURE AnyPairs (x, y, z)\n",
    "{\n",
    "IF (x = y)\n",
    "{\n",
    "RETURN (true)\n",
    "}\n",
    "ELSE\n",
    "{\n",
    "RETURN (y = z)\n",
    "}\n",
    "}"
   ]
  },
  {
   "cell_type": "markdown",
   "metadata": {},
   "source": [
    "The procedure doesn't have a function for if x=z, so only A wouldn't be correct."
   ]
  },
  {
   "cell_type": "markdown",
   "metadata": {},
   "source": [
    "# Question 56\n",
    "An online game collects data about each player’s performance in the game. A program is used to analyze the data to make predictions about how players will perform in a new version of the game.\n",
    "\n",
    "The procedure GetPrediction (idNum) returns a predicted score for the player with ID number idNum. Assume that all predicted scores are positive. The GetPrediction procedure takes approximately 1 minute to return a result. All other operations happen nearly instantaneously.\n",
    "\n",
    "Two versions of the program are shown below."
   ]
  },
  {
   "cell_type": "code",
   "execution_count": null,
   "metadata": {
    "vscode": {
     "languageId": "plaintext"
    }
   },
   "outputs": [],
   "source": [
    "Version I\n",
    "topScore \n",
    " 0\n",
    "idList \n",
    " [1298702, 1356846, 8848491, 8675309]\n",
    "FOR EACH id IN idList\n",
    "{\n",
    "score \n",
    " GetPrediction (id)\n",
    "IF (score > topScore)\n",
    "{\n",
    "topScore \n",
    " score\n",
    "}\n",
    "}\n",
    "DISPLAY (topScore)\n",
    "Version II\n",
    "idList \n",
    " [1298702, 1356846, 8848491, 8675309]\n",
    "topID \n",
    " idList[1]\n",
    "FOR EACH id IN idList\n",
    "{\n",
    "IF (GetPrediction (id) > GetPrediction (topID))\n",
    "{\n",
    "topID \n",
    " id\n",
    "}\n",
    "}\n",
    "DISPLAY (GetPrediction (topID))\n",
    "\n",
    "Which of the following best compares the execution times of the two versions of the program?"
   ]
  },
  {
   "cell_type": "markdown",
   "metadata": {},
   "source": [
    "Version II takes the GetPrediciton twice per id number, and then again at the end, so it would take 11 minutes to complete, which is 5 more min than Version I, which takes the GetPrediction once per id number, and again at the end, resulting in 6 minutes. "
   ]
  },
  {
   "cell_type": "markdown",
   "metadata": {},
   "source": [
    "# Question 52\n",
    "A biologist wrote a program to simulate the population of a sample of bacteria. The program uses the following procedures."
   ]
  },
  {
   "cell_type": "code",
   "execution_count": null,
   "metadata": {
    "vscode": {
     "languageId": "plaintext"
    }
   },
   "outputs": [],
   "source": [
    "hours \n",
    " 0\n",
    "\n",
    "startPop \n",
    " InitialPopulation ()\n",
    "\n",
    "currentPop \n",
    " startPop\n",
    "\n",
    "REPEAT UNTIL ((hours ≥ 24) OR (currentPop ≤ 0))\n",
    "\n",
    "{\n",
    "\n",
    "currentPop \n",
    " NextPopulation (currentPop)\n",
    "\n",
    "hours \n",
    " hours + 1\n",
    "\n",
    "}\n",
    "\n",
    "DISPLAY (currentPop - startPop)"
   ]
  },
  {
   "cell_type": "markdown",
   "metadata": {},
   "source": [
    "Which of the following are true statements about the simulation?\n",
    "\n",
    "The simulation continues until either 24 hours pass or the population reaches 0.\n",
    "The simulation displays the average change in population per hour over the course of the simulation.\n",
    "The simulation displays the total population at the end of the simulation.\n",
    "\n",
    "Only I is correct, because the simulation continues until either 24 hours pass, or the population reaches 0 because of the line \"REPEAT UNTIL ((hours ≥ 24) OR (currentPop ≤ 0))\"\n",
    "\n",
    "II and III are incorrect, because the total populatino is not shown at the end of the simulation, and the simulation displays change in population for the entire course of the simulation."
   ]
  },
  {
   "cell_type": "markdown",
   "metadata": {},
   "source": [
    "# Question 50\n",
    "Consider the following algorithms. Each algorithm operates on a list containing n elements, where n is a very large integer.\n",
    "\n",
    "An algorithm that accesses each element in the list twice\n",
    "An algorithm that accesses each element in the list n times\n",
    "An algorithm that accesses only the first 10 elements in the list, regardless of the size of the list\n",
    "\n",
    "Which of the algorithms run in reasonable time?\n",
    "\n",
    "All are correct, since the first would be 2n, the second would be n to the power of n, and the last would just analyze the first 10 integers, so all would be completed in a reasonable time."
   ]
  },
  {
   "cell_type": "markdown",
   "metadata": {},
   "source": [
    "# Question 47\n",
    "The procedure BinarySearch (numList, target) correctly implements a binary search algorithm on the list of numbers numList. The procedure returns an index where target occurs in numList, or -1 if target does not occur in numList. Which of the following conditions must be met in order for the procedure to work as intended?\n",
    "\n",
    "The list has to be in order because BinarySearch works by looking at half of the data, and then narrowing down the pool of possible answers from there. "
   ]
  },
  {
   "cell_type": "markdown",
   "metadata": {},
   "source": [
    "# Question 35\n",
    "A programmer notices the following two procedures in a library. The procedures do similar, but not identical, things.\n",
    "\n",
    "Procedure MaxTwo (x, y) returns the greater of its two integer parameters.\n",
    "Procedure MaxThree (x, y, z) returns the greatest of its three integer parameters.\n",
    "Which of the following procedures is a generalization of the MaxTwo and MaxThree procedures?\n",
    "\n",
    "Max (numlist) returns the greatest of numlist, since it takes the maximum of the integers presented."
   ]
  },
  {
   "cell_type": "markdown",
   "metadata": {},
   "source": [
    "# Question 29\n",
    "A person wants to transmit an audio file from a device to a second device. Which of the following scenarios best demonstrates the use of lossless compression of the original file?\n",
    "\n",
    "\"A\" would be the correct answer, since lossless compression works by using an algorithm to shrink the data without losing the important data, then sending the unimportant details in an index file, and allowing the second device to fill in to unimportant details."
   ]
  },
  {
   "cell_type": "markdown",
   "metadata": {},
   "source": [
    "# Question 21\n",
    "A file storage application allows users to save their files on cloud servers. A group of researchers gathered user data for the first eight years of the application’s existence. Some of the data are summarized in the following graphs. The line graph on the left shows the number of registered users each year. The line graph on the right shows the total amount of data stored by all users each year. The circle graph shows the distribution of file sizes currently stored by all users.\n",
    "\n",
    "1 megabyte = 1000 kilobytes, so 22+24+17+25 > 75% of the graph"
   ]
  },
  {
   "cell_type": "markdown",
   "metadata": {},
   "source": [
    "# Question 18\n",
    "\n",
    "The grid below contains a robot represented as a triangle, initially facing right. The robot can move into a white or gray square but cannot move into a black region.\n",
    "\n",
    "The figure presents a robot in a 5 by 5 grid of squares. The robot is represented by a triangle, which is located in the top leftmost square and is initially facing right. Black squares represent barriers that the robot cannot pass through. The second row contains black shading in the first, second, third, and fourth squares from the left. The third row contains gray shading in the first square, and black shading in the second and fourth squares from the left. The fourth row contains black shading in the second and fourth squares from the left.\n",
    "The code segment below uses the procedure GoalReached, which evaluates to true if the robot is in the gray square and evaluates to false otherwise.\n",
    "\n",
    "REPEAT UNTIL (GoalReached ())\n",
    "\n",
    "{\n",
    "\n",
    "<MISSING CODE>\n",
    "\n",
    "}\n",
    "\n",
    "Which of the following replacements for <MISSING CODE> can be used to move the robot to the gray square?\n",
    "\n",
    "\n",
    "the robot should move forward until it can't move foreward anymore, then rotate right, and repeat. This is shown by the code:\n",
    "\n",
    "REPEAT UNTIL (CAN_MOVE (forward) = false)\n",
    "\n",
    "{\n",
    "\n",
    "MOVE_FORWARD ()\n",
    "\n",
    "}\n",
    "\n",
    "ROTATE_RIGHT ()\n",
    "\n",
    "\n",
    "This is answer B."
   ]
  },
  {
   "cell_type": "markdown",
   "metadata": {},
   "source": [
    "## Reflection\n",
    "\n",
    "I think taking the test helped put into perspective what AP Collegeboard wants from students, and how different it is from what we are doing in class with APIs and databases. It was easier than I had expected, it I could use test-taking strategies to figure out the different legislative acts instead of code. The AP pseudo-code was also a bit confusing, but I think taking the test helped me figure it out as I got used to it. Overall, it was an interesting learning experience, and helped me figure out a lot about robot code and the laws that regulate code. "
   ]
  }
 ],
 "metadata": {
  "language_info": {
   "name": "python"
  }
 },
 "nbformat": 4,
 "nbformat_minor": 2
}
