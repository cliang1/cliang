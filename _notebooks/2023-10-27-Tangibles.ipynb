{
 "cells": [
  {
   "cell_type": "markdown",
   "metadata": {},
   "source": [
    "---\n",
    "toc: true\n",
    "comments: true\n",
    "layout: default\n",
    "title: Tangibles\n",
    "type: tangibles \n",
    "courses: { compsci: {week: 10} }\n",
    "description: A review of what I've learned in this past trimester\n",
    "---"
   ]
  },
  {
   "cell_type": "markdown",
   "metadata": {},
   "source": [
    "# Tangibles:\n",
    "\n",
    "Overall, I learned a lot about coding this trimester. Initially, I had no idea how to code, but after a few weeks, I began to see connections between various ideas and how to integrate them. I think it was especially interesting to learn about APIs, espite how difficult it was, since we were able to go online, and when we eventually presented our data through and API, it was more rewarding than coding a simple algorithm. While I still think I'm not nearly as experienced in coding as I could be, I also learned to word with teammates through AGILE, and I think many of the content taught in thsi class would be helpful even outside of the computer science industry. "
   ]
  }
 ],
 "metadata": {
  "language_info": {
   "name": "python"
  }
 },
 "nbformat": 4,
 "nbformat_minor": 2
}
