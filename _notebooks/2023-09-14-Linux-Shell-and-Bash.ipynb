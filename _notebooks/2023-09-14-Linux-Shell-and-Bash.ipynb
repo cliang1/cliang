{
 "cells": [
  {
   "cell_type": "markdown",
   "metadata": {},
   "source": [
    "---\n",
    "toc: true\n",
    "comments: false\n",
    "layout: post\n",
    "title: Linux Shell and Bash\n",
    "description: Linux Shell and Bash\n",
    "type: hacks\n",
    "courses: { compsci: {week: 3} }\n",
    "---\n"
   ]
  },
  {
   "cell_type": "code",
   "execution_count": null,
   "metadata": {
    "vscode": {
     "languageId": "shellscript"
    }
   },
   "outputs": [],
   "source": [
    "%%script bash\n",
    "\n",
    "cd\n",
    "cd vscode\n",
    "cd cliang\n",
    "code cliang\n"
   ]
  },
  {
   "cell_type": "markdown",
   "metadata": {},
   "source": [
    "# Commonly Used Linux Commands\n",
    "\n",
    "- cd - change directory\n",
    "- mkdir - make directory\n",
    "- more - show more info page by page\n",
    "- cat - show info all at once\n",
    "- ls - list out info\n",
    "- cp - copy\n",
    "- kill - teminate code\n",
    "- echo - basically like print\n",
    "\n",
    "# Is there anything we use to verify tools we installed? Review versions?\n",
    "Can use toolname --version, or search for the tool name.\n",
    "# How would you update a repository? Use the git command line?\n",
    "\n",
    "cd the path to the repository, then type in \"git pull\", so the latest changes are pulled to update the repository. \n",
    "\n",
    "\n"
   ]
  }
 ],
 "metadata": {
  "language_info": {
   "name": "python"
  },
  "orig_nbformat": 4
 },
 "nbformat": 4,
 "nbformat_minor": 2
}
