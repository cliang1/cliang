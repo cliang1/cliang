{
 "cells": [
  {
   "cell_type": "markdown",
   "metadata": {},
   "source": [
    "---\n",
    "toc: true\n",
    "comments: false\n",
    "layout: post\n",
    "title: Linux Shell and Bash\n",
    "description: Linux Shell and Bash\n",
    "type: hacks\n",
    "courses: { compsci: {week: 3} }\n",
    "---\n"
   ]
  },
  {
   "cell_type": "code",
   "execution_count": null,
   "metadata": {
    "vscode": {
     "languageId": "shellscript"
    }
   },
   "outputs": [],
   "source": [
    "%%script bash\n",
    "\n",
    "cd\n",
    "cd vscode\n",
    "code cliang\n"
   ]
  },
  {
   "cell_type": "markdown",
   "metadata": {},
   "source": [
    "## Commonly Used Linux Commands\n",
    "# Navigation and File Management:\n",
    "ls: List files and directories in the current directory.\n",
    "cd: Change the current working directory.\n",
    "pwd: Print the current working directory.\n",
    "mkdir: Create a new directory.\n",
    "touch: Create an empty file.\n",
    "rm: Remove files or directories.\n",
    "cp: Copy files or directories.\n",
    "mv: Move or rename files or directories.\n",
    "# File Viewing and Editing:\n",
    "cat: Concatenate and display file content.\n",
    "more or less: View file content one screen at a time.\n",
    "nano or vim or emacs: Text editors for creating and editing files.\n",
    "# File Permissions:\n",
    "chmod: Change file permissions.\n",
    "chown: Change file ownership.\n",
    "Searching and Finding:\n",
    "grep: Search for text patterns in files.\n",
    "find: Search for files and directories.\n",
    "locate: Quickly find files based on a database.\n",
    "# Process Management:\n",
    "ps: List running processes.\n",
    "top or htop: Monitor system processes in real-time.\n",
    "kill: Terminate processes.\n",
    "# System Information:\n",
    "uname: Display system information.\n",
    "df: Display disk space usage.\n",
    "free: Display memory usage.\n",
    "lsb_release: Display Linux distribution information.\n",
    "# Archiving and Compression:\n",
    "tar: Archive files and directories.\n",
    "gzip, gunzip: Compress and decompress files.\n",
    "# Network and Connectivity:\n",
    "ping: Test network connectivity.\n",
    "ifconfig or ip: Configure and display network interfaces.\n",
    "ssh: Securely connect to remote systems.\n",
    "scp: Securely copy files between systems.\n",
    "# User and Group Management:\n",
    "useradd, userdel: Add or delete user accounts.\n",
    "passwd: Change user passwords.\n",
    "groups: List user groups.\n",
    "sudo: Execute commands with superuser privileges.\n",
    "# System Control and Shutdown:\n",
    "reboot: Reboot the system.\n",
    "shutdown: Shutdown the system.\n",
    "# File Transfer:\n",
    "wget or curl: Download files from the internet.\n",
    "\n",
    "# Is there anything we use to verify tools we installed? Review versions?\n",
    "Can use toolname --version, or search for the tool name.\n",
    "# How would you update a repository? Use the git command line?\n",
    "\n",
    "cd the path to the repository, then type in \"git pull\", so the latest changes are pulled to update the repository. \n",
    "\n",
    "\n"
   ]
  }
 ],
 "metadata": {
  "language_info": {
   "name": "python"
  },
  "orig_nbformat": 4
 },
 "nbformat": 4,
 "nbformat_minor": 2
}
