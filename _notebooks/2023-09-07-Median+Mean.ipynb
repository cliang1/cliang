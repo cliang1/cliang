{
 "cells": [
  {
   "cell_type": "markdown",
   "metadata": {},
   "source": [
    "---\n",
    "toc: true\n",
    "comments: false\n",
    "layout: post\n",
    "title: Median\n",
    "description: Median project (hopefully)\n",
    "type: hacks\n",
    "courses: { compsci: {week: 3} }\n",
    "---"
   ]
  },
  {
   "cell_type": "code",
   "execution_count": 1,
   "metadata": {},
   "outputs": [
    {
     "name": "stdout",
     "output_type": "stream",
     "text": [
      "Print test data: 100\n",
      "Mean of single number: 100\n",
      "\n",
      "Print test data: [90.5, 100, 85.4, 88]\n",
      "Average score, loop method: 90.98\n",
      "Average score, function method: 90.98\n",
      "\n",
      "Print test data: [100, 'NaN', 90]\n",
      "Bad data: NaN in [100, 'NaN', 90]\n"
     ]
    },
    {
     "ename": "SystemExit",
     "evalue": "",
     "output_type": "error",
     "traceback": [
      "An exception has occurred, use %tb to see the full traceback.\n",
      "\u001b[0;31mSystemExit\u001b[0m\n"
     ]
    },
    {
     "name": "stderr",
     "output_type": "stream",
     "text": [
      "/usr/lib/python3/dist-packages/IPython/core/interactiveshell.py:3465: UserWarning: To exit: use 'exit', 'quit', or Ctrl-D.\n",
      "  warn(\"To exit: use 'exit', 'quit', or Ctrl-D.\", stacklevel=1)\n"
     ]
    }
   ],
   "source": [
    "import sys\n",
    "from typing import Union\n",
    "\n",
    "# Define types for mean function, trying to analyze input possibilities\n",
    "Number = Union[int, float]  # Number can be either int or float type\n",
    "Numbers = list[Number] # Numbers is a list of Number types\n",
    "Scores = Union[Number, Numbers] # Scores can be single or multiple \n",
    "\n",
    "def mean(scores: Scores, method: int = 1) -> float:\n",
    "    \"\"\"\n",
    "    Calculate the mean of a list of scores.\n",
    "    \n",
    "    Average and Average2 are hidden functions performing mean algorithm\n",
    "\n",
    "    If a single score is provided in scores, it is returned as the mean.\n",
    "    If a list of scores is provided, the average is calculated and returned.\n",
    "    \"\"\"\n",
    "    \n",
    "    def average(scores): \n",
    "        \"\"\"Calculate the average of a list of scores using a Python for loop with rounding.\"\"\"\n",
    "        sum = 0\n",
    "        len = 0\n",
    "        for score in scores:\n",
    "            if isinstance(score, Number):\n",
    "                sum += score\n",
    "                len += 1\n",
    "            else:\n",
    "                print(\"Bad data: \" + str(score) + \" in \" + str(scores))\n",
    "                sys.exit()\n",
    "        return sum / len\n",
    "    \n",
    "    def average2(scores):\n",
    "        \"\"\"Calculate the average of a list of scores using the built-in sum() function with rounding.\"\"\"\n",
    "        return sum(scores) / len(scores)\n",
    "\n",
    "    # test to see if scores is  a list of numbers\n",
    "    if isinstance(scores, list):\n",
    "        if method == 1:  \n",
    "            # long method\n",
    "            result = average(scores)\n",
    "        else:\n",
    "            # built in method\n",
    "            result = average2(scores)\n",
    "        return round(result + 0.005, 2)\n",
    "    \n",
    "    return scores # case where scores is a single valu\n",
    "\n",
    "# try with one number\n",
    "singleScore = 100\n",
    "print(\"Print test data: \" + str(singleScore))  # concat data for single line\n",
    "print(\"Mean of single number: \" + str(mean(singleScore)))\n",
    "\n",
    "print()\n",
    "\n",
    "# define a list of numbers\n",
    "testScores = [90.5, 100, 85.4, 88]\n",
    "print(\"Print test data: \" + str(testScores))\n",
    "print(\"Average score, loop method: \" + str(mean(testScores)))\n",
    "print(\"Average score, function method: \" +  str(mean(testScores, 2)))\n",
    "\n",
    "print()\n",
    "\n",
    "badData = [100, \"NaN\", 90]\n",
    "print(\"Print test data: \" + str(badData))\n",
    "print(\"Mean with bad data: \" + str(mean(badData)))"
   ]
  },
  {
   "cell_type": "code",
   "execution_count": 2,
   "metadata": {},
   "outputs": [
    {
     "name": "stdout",
     "output_type": "stream",
     "text": [
      "Enter a number (or a non-numeric value to stop): 0\n",
      "Enter a number (or a non-numeric value to stop): 1\n",
      "Enter a number (or a non-numeric value to stop): 2\n",
      "Enter a number (or a non-numeric value to stop): 5\n",
      "Enter a number (or a non-numeric value to stop): 6\n",
      "Enter a number (or a non-numeric value to stop): 9\n",
      "Enter a number (or a non-numeric value to stop): 8\n",
      "Enter a number (or a non-numeric value to stop): 4\n",
      "Enter a number (or a non-numeric value to stop): 6\n",
      "Enter a number (or a non-numeric value to stop): \n",
      "Median: 5.0\n"
     ]
    }
   ],
   "source": [
    "import sys\n",
    "from typing import Union\n",
    "\n",
    "# Define types for mean function, trying to analyze input possibilities\n",
    "Number = Union[int, float]  # Number can be either int or float type\n",
    "Numbers = list[Number] # Numbers is a list of Number types\n",
    "Scores = Union[Number, Numbers] # Scores can be single or multiple\n",
    "\n",
    "def find_median(numbers):\n",
    "    # Sort the list in order of smallest to largest\n",
    "    numbers.sort()\n",
    "    \n",
    "    # Check if number of elements is even or odd\n",
    "    num_elements = len(numbers)\n",
    "    \n",
    "    if num_elements % 2 == 1:\n",
    "        # takes the number of elements, divides by 2, and if it is odd, finds the middle number\n",
    "        median = numbers[num_elements // 2]\n",
    "    else:\n",
    "        # If it's not odd, it takes the two closest to the middle and averages\n",
    "        middle1 = numbers[num_elements // 2 - 1]\n",
    "        middle2 = numbers[num_elements // 2]\n",
    "        median = (middle1 + middle2) / 2.0\n",
    "\n",
    "    return median\n",
    "\n",
    "# Create an empty list to store the numbers\n",
    "numbers = []\n",
    "\n",
    "# Keeps asking for numbers until user types in a non-numeric value\n",
    "while True:\n",
    "    try:\n",
    "        num = float(input(\"Enter a number (or a non-numeric value to stop): \"))\n",
    "        numbers.append(num)\n",
    "        # asks for user input w/ input, then converts to string. \n",
    "        # From there, the string is converted to a number using float. \n",
    "        # Append adds a number to the list as the user types in numbers.\n",
    "    except ValueError:\n",
    "        # Can't be converted to a float\n",
    "        break\n",
    "    \n",
    "# Check if there are numbers to calculate the median\n",
    "if numbers:\n",
    "    median = find_median(numbers)\n",
    "    print(\"Median:\", median)\n",
    "else:\n",
    "    print(\"No numbers entered.\")"
   ]
  }
 ],
 "metadata": {
  "kernelspec": {
   "display_name": "Python 3 (ipykernel)",
   "language": "python",
   "name": "python3"
  },
  "language_info": {
   "codemirror_mode": {
    "name": "ipython",
    "version": 3
   },
   "file_extension": ".py",
   "mimetype": "text/x-python",
   "name": "python",
   "nbconvert_exporter": "python",
   "pygments_lexer": "ipython3",
   "version": "3.10.12"
  }
 },
 "nbformat": 4,
 "nbformat_minor": 2
}
