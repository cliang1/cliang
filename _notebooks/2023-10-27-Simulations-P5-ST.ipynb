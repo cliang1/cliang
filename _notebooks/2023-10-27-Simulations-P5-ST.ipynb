{
 "cells": [
  {
   "cell_type": "markdown",
   "metadata": {},
   "source": [
    "---\n",
    "comments: true\n",
    "layout: post\n",
    "title: Simulations - Student Teach\n",
    "description: Student Lesson\n",
    "type: hacks\n",
    "courses: { compsci: {week: 2} }\n",
    "---"
   ]
  },
  {
   "cell_type": "markdown",
   "metadata": {},
   "source": [
    "## Simulations \n"
   ]
  },
  {
   "cell_type": "markdown",
   "metadata": {},
   "source": [
    "> A simulation is the use of a computer software to represent the dynamic responses of one system by the behaviour of another system modeled after it. A simulation uses a mathematical descriptions, or models, of a real system in the form of a computer program."
   ]
  },
  {
   "cell_type": "markdown",
   "metadata": {},
   "source": [
    "![simulation](https://www.simscale.com/wp-content/uploads/2022/11/dron-quadcopter-simulation.png)"
   ]
  },
  {
   "cell_type": "markdown",
   "metadata": {},
   "source": [
    "## College Board Essential Knowledge"
   ]
  },
  {
   "cell_type": "markdown",
   "metadata": {},
   "source": [
    "> Simulation are absractions of more complex objects or phenomena for a specific purpose \n",
    "\n",
    "- Mimic Real World Events\n",
    "- Allows investigation of phenomenons without contraints of the Real World\n",
    "- Helps you draw accurate inferences\n",
    "\n",
    "> Simulations utilize varying sets of values to reflect the changings states of a phenomenon\n",
    "\n",
    "- simulations can simplfly things for functionality\n",
    "- Simulations can contain bias from real world elements, that were chosen to be included or excluded\n",
    "\n",
    "> Simulations work best when the real world experemnts are too impractical or time consuming. For example, simulating how different cars behave when they crash, would be much better than crashng actual cars in the real world, which would be expensive and dangerous.\n",
    "\n",
    "<a href=\"https://ibb.co/f4jKcBY\"><img src=\"https://i.ibb.co/NZck4Q6/simulations-vs-experiments.png\" alt=\"simulations-vs-experiments\" border=\"0\"></a>\n"
   ]
  },
  {
   "cell_type": "markdown",
   "metadata": {},
   "source": [
    "## Rolling the Dice"
   ]
  },
  {
   "cell_type": "markdown",
   "metadata": {},
   "source": [
    "<a href=\"https://ibb.co/PGBhfPD\"><img src=\"https://i.ibb.co/XxmsvKY/craps-rolling-seven-7.jpg\" alt=\"craps-rolling-seven-7\" border=\"0\"></a>\n",
    "\n",
    "> Simulating something like a dice roll in real life would require accounting for things like: weight, flaws in design, thrust, and gravity.\n",
    "- KEEP IT SIMPLE! just use a random-number generator! Ignore minor causes of variablility"
   ]
  },
  {
   "cell_type": "markdown",
   "metadata": {},
   "source": [
    "## Random"
   ]
  },
  {
   "cell_type": "markdown",
   "metadata": {},
   "source": [
    "- \"Random\" is a built-in python function that allow the user to draw a random value from a set range.\n",
    "- A Random Number Generator (RNG) is a common simulation that selects a random value from an array.\n",
    "- The following code cell utilizes \"random\" to select a number from 1 to 100."
   ]
  },
  {
   "cell_type": "code",
   "execution_count": null,
   "metadata": {},
   "outputs": [],
   "source": [
    "#imports random module so we can use it in our code\n",
    "import random\n",
    "\n",
    "#sets variable random_number as a random number between 1 and 100\n",
    "random_number = random.randint(1, 100)\n",
    "\n",
    "#Printing out your random Number\n",
    "print(random_number)"
   ]
  },
  {
   "cell_type": "markdown",
   "metadata": {},
   "source": [
    "## More complex usage of \"random\"; Coin Toss Simulation"
   ]
  },
  {
   "cell_type": "code",
   "execution_count": 1,
   "metadata": {},
   "outputs": [
    {
     "name": "stdout",
     "output_type": "stream",
     "text": [
      "Number of Heads: 516\n",
      "Number of Tails: 484\n",
      "Heads Probability: {0.516}\n",
      "Tails Probability: {0.484}\n"
     ]
    }
   ],
   "source": [
    "import random\n",
    "def flip_coin():\n",
    "    return random.choice([\"Heads\", \"Tails\"])\n",
    "def coin_flip_simulation(num_flips):\n",
    "    heads_count = 0\n",
    "    tails_count = 0\n",
    "    for _ in range(num_flips):\n",
    "        result = flip_coin()\n",
    "        if result == \"Heads\":\n",
    "            heads_count += 1\n",
    "        else:\n",
    "            tails_count += 1\n",
    "    return heads_count, tails_count\n",
    "if __name__ == \"__main__\":\n",
    "    num_flips = 1000  #This is the number of coin flips you want to simulate\n",
    "    heads, tails = coin_flip_simulation(num_flips)\n",
    "    print(\"Number of Heads: \"+ str(heads))\n",
    "    print(\"Number of Tails: \" + str(tails))\n",
    "    print(\"Heads Probability: \"+ str({heads / num_flips}))\n",
    "    print(\"Tails Probability: \"+ str({tails / num_flips}))"
   ]
  },
  {
   "cell_type": "markdown",
   "metadata": {},
   "source": [
    "## Popcorn Hack #1"
   ]
  },
  {
   "cell_type": "markdown",
   "metadata": {},
   "source": [
    "Utilize \"random\" to create a basic simulation of a rolling TWO dice. Print the sum of both dice rolls. Remember to practice good syntax when naming your variables. "
   ]
  },
  {
   "cell_type": "code",
   "execution_count": null,
   "metadata": {},
   "outputs": [],
   "source": [
    "import random\n",
    "\n",
    "Die1 = random.randint(1, 6)\n",
    "Die2 = random.randint(1, 6)\n",
    "\n",
    "print(\"Die1 is:\", Die1)\n",
    "print(\"Die2 is:\", Die2)\n",
    "\n",
    "print(Die1 + Die2)\n",
    "#Code, Code, Code"
   ]
  },
  {
   "cell_type": "markdown",
   "metadata": {},
   "source": [
    "## Algorithms\n",
    ">Simulations often utilize algorithms and equations to perform tasks because simulations don't always have the same output\n",
    "- the output of a simulation depends on the input\n",
    "\n",
    ">An algorithm is a finite sequence of instructions used to solve problems or perform computations. \n",
    "- commonly used alongside functions\n"
   ]
  },
  {
   "cell_type": "markdown",
   "metadata": {},
   "source": [
    "## Example Algorithm in a function"
   ]
  },
  {
   "cell_type": "code",
   "execution_count": 42,
   "metadata": {},
   "outputs": [
    {
     "data": {
      "text/plain": [
       "7"
      ]
     },
     "execution_count": 42,
     "metadata": {},
     "output_type": "execute_result"
    }
   ],
   "source": [
    "#Defining Function\n",
    "def algorithm(input):\n",
    "    \n",
    "    #Manipulating input and preparing it for the output.  \n",
    "    output = input+2\n",
    "    \n",
    "    #Return the output\n",
    "    return output\n",
    "\n",
    "#Call the Function to start the algorithm\n",
    "algorithm(5)\n",
    "    "
   ]
  },
  {
   "cell_type": "markdown",
   "metadata": {},
   "source": [
    "## Mathematics\n",
    "- Math can also prove to be very useful in certain types of situations.\n",
    "- Commonly used along with Algorithms when simulating various things\n",
    "\n",
    "![math](https://pythontutorialhome.files.wordpress.com/2019/05/image-2.png)\n"
   ]
  },
  {
   "cell_type": "markdown",
   "metadata": {},
   "source": [
    "## Popcorn Hack #2"
   ]
  },
  {
   "cell_type": "markdown",
   "metadata": {},
   "source": [
    "Simulate how long an object will fall for using an algorithm, with user-inputed variables for height dropped. Use the following formula as a reference.\n",
    "\n",
    "![gravity ](https://hepweb.ucsd.edu/ph110b/110b_notes/img272.png)\n",
    "\n",
    "- t = time (output)\n",
    "- h = height dropped from (input)\n",
    "- g = constant (given)"
   ]
  },
  {
   "cell_type": "code",
   "execution_count": null,
   "metadata": {},
   "outputs": [],
   "source": [
    "# Constant, Acceleration due to gravity (m/s^2)\n",
    "\n",
    "def simulation(height_dropped):\n",
    "    height_dropped = input(\"Type in the height you would like the object to be dropped from\")\n",
    "    G = 9.81 \n",
    "    sqrt((2 * height_dropped)/G)\n",
    "    \n",
    "print(simulation(3))"
   ]
  },
  {
   "cell_type": "markdown",
   "metadata": {},
   "source": [
    "# Using Loops in Simulations"
   ]
  },
  {
   "cell_type": "markdown",
   "metadata": {},
   "source": [
    "> For loops can also be used in simulations\n",
    "- They can simulate events that repeat but don't always have the same output\n"
   ]
  },
  {
   "cell_type": "code",
   "execution_count": 44,
   "metadata": {},
   "outputs": [
    {
     "name": "stdout",
     "output_type": "stream",
     "text": [
      "This is run number: 0\n",
      "This is run number: 1\n",
      "This is run number: 2\n",
      "This is run number: 3\n"
     ]
    }
   ],
   "source": [
    "# Example For Loop\n",
    "\n",
    "#Creating For Loop to repeat 4 times\n",
    "for i in range(4):\n",
    "    \n",
    "    #Action that happens inside for loop\n",
    "    print(\"This is run number: \" + str(i))\n",
    "    "
   ]
  },
  {
   "cell_type": "markdown",
   "metadata": {},
   "source": [
    "## Popcorn Hack #3"
   ]
  },
  {
   "cell_type": "markdown",
   "metadata": {},
   "source": [
    "You are gambling addict (sigma). \n",
    "\n",
    "Each session you roll 2 dice.\n",
    "\n",
    "If your dice roll is greater than or equal to 9 you win the session.\n",
    "\n",
    "If you win over 5 sessions, you win the jackpot.\n",
    "\n",
    "Simulate your odds to predict if you will hit the jackpot (how many rounds did you win?) using a for loop and random.\n"
   ]
  },
  {
   "cell_type": "code",
   "execution_count": 20,
   "metadata": {},
   "outputs": [
    {
     "name": "stdout",
     "output_type": "stream",
     "text": [
      "Simulated 10 sessions.\n",
      "Sessions won: 0\n",
      "You didn't hit the jackpot this time.\n",
      "Probability of hitting the jackpot: 0.00%\n"
     ]
    }
   ],
   "source": [
    "# Code Code Code\n",
    "import random\n",
    "\n",
    "# Initialize variables\n",
    "sessions_won = 0  # Counter for sessions won\n",
    "jackpot_won = False  # Jackpot status\n",
    "\n",
    "# Number of sessions to simulate\n",
    "num_sessions = 10  # You can adjust this number\n",
    "\n",
    "# Simulate the game for the specified number of sessions\n",
    "for session in range(1):\n",
    "    # Roll two dice\n",
    "    dice_roll_1 = random.randint(1, 6)\n",
    "    dice_roll_2 = random.randint(1, 6)\n",
    "    total_roll = dice_roll_1 + dice_roll_2\n",
    "\n",
    "    # Check if the session is won (dice roll >= 9)\n",
    "    if total_roll >= 9:\n",
    "        sessions_won += 1\n",
    "\n",
    "    # Check if the jackpot is won (more than 5 sessions won)\n",
    "    if sessions_won > 5:\n",
    "        jackpot_won = True\n",
    "        break  # No need to continue simulating\n",
    "\n",
    "# Calculate the probability of hitting the jackpot\n",
    "probability = sessions_won / num_sessions\n",
    "\n",
    "# Output the results\n",
    "print(f\"Simulated {num_sessions} sessions.\")\n",
    "print(f\"Sessions won: {sessions_won}\")\n",
    "if jackpot_won:\n",
    "    print(\"Congratulations! You hit the jackpot!\")\n",
    "else:\n",
    "    print(\"You didn't hit the jackpot this time.\")\n",
    "print(f\"Probability of hitting the jackpot: {probability:.2%}\")\n",
    "       "
   ]
  },
  {
   "cell_type": "markdown",
   "metadata": {},
   "source": [
    "## BONUS POPCORN HACK\n",
    "> Welcome to Flight Simulator! Your goal is to complete a Python program that simulates a flight We've set up some initial values for altitude, speed, and fuel. Your task is to update these values to make the flight more realistic.\n",
    "\n",
    "- Your mission:\n",
    "\n",
    "1. Use random changes to simulate altitude, speed, and fuel changes.\n",
    "2. Keep the flight going until it reaches 10,000 feet or runs out of fuel.\n",
    "3. Make sure altitude, speed, and fuel remain realistic."
   ]
  },
  {
   "cell_type": "code",
   "execution_count": 17,
   "metadata": {},
   "outputs": [
    {
     "name": "stdout",
     "output_type": "stream",
     "text": [
      "Welcome to Flight Simulator!\n",
      "Altitude: 0 feet, Speed: 0 mph, Fuel: 98.92\n",
      "Altitude: 481 feet, Speed: 0 mph, Fuel: 97.19\n",
      "Altitude: 204 feet, Speed: 0 mph, Fuel: 96.53\n",
      "Altitude: 0 feet, Speed: 6 mph, Fuel: 95.30\n",
      "Altitude: 0 feet, Speed: 12 mph, Fuel: 93.49\n",
      "Altitude: 219 feet, Speed: 8 mph, Fuel: 92.08\n",
      "Altitude: 0 feet, Speed: 0 mph, Fuel: 91.45\n",
      "Altitude: 0 feet, Speed: 4 mph, Fuel: 89.77\n",
      "Altitude: 205 feet, Speed: 0 mph, Fuel: 89.06\n",
      "Altitude: 171 feet, Speed: 0 mph, Fuel: 88.09\n",
      "Altitude: 469 feet, Speed: 0 mph, Fuel: 87.09\n",
      "Altitude: 582 feet, Speed: 0 mph, Fuel: 85.74\n",
      "Altitude: 587 feet, Speed: 0 mph, Fuel: 83.84\n",
      "Altitude: 533 feet, Speed: 2 mph, Fuel: 82.23\n",
      "Altitude: 733 feet, Speed: 0 mph, Fuel: 80.37\n",
      "Altitude: 487 feet, Speed: 0 mph, Fuel: 79.34\n",
      "Altitude: 854 feet, Speed: 0 mph, Fuel: 77.93\n",
      "Altitude: 503 feet, Speed: 0 mph, Fuel: 76.15\n",
      "Altitude: 84 feet, Speed: 0 mph, Fuel: 75.39\n",
      "Altitude: 309 feet, Speed: 7 mph, Fuel: 74.56\n",
      "Altitude: 0 feet, Speed: 11 mph, Fuel: 73.55\n",
      "Altitude: 0 feet, Speed: 7 mph, Fuel: 71.78\n",
      "Altitude: 231 feet, Speed: 0 mph, Fuel: 69.94\n",
      "Altitude: 534 feet, Speed: 6 mph, Fuel: 68.38\n",
      "Altitude: 38 feet, Speed: 10 mph, Fuel: 66.71\n",
      "Altitude: 0 feet, Speed: 6 mph, Fuel: 65.25\n",
      "Altitude: 0 feet, Speed: 0 mph, Fuel: 64.24\n",
      "Altitude: 268 feet, Speed: 4 mph, Fuel: 62.55\n",
      "Altitude: 264 feet, Speed: 12 mph, Fuel: 61.87\n",
      "Altitude: 173 feet, Speed: 18 mph, Fuel: 60.54\n",
      "Altitude: 10 feet, Speed: 19 mph, Fuel: 59.78\n",
      "Altitude: 0 feet, Speed: 29 mph, Fuel: 58.82\n",
      "Altitude: 0 feet, Speed: 28 mph, Fuel: 57.78\n",
      "Altitude: 0 feet, Speed: 26 mph, Fuel: 56.27\n",
      "Altitude: 29 feet, Speed: 18 mph, Fuel: 54.38\n",
      "Altitude: 0 feet, Speed: 22 mph, Fuel: 52.98\n",
      "Altitude: 452 feet, Speed: 13 mph, Fuel: 51.65\n",
      "Altitude: 742 feet, Speed: 23 mph, Fuel: 49.66\n",
      "Altitude: 855 feet, Speed: 33 mph, Fuel: 48.46\n",
      "Altitude: 663 feet, Speed: 30 mph, Fuel: 47.68\n",
      "Altitude: 1071 feet, Speed: 39 mph, Fuel: 46.98\n",
      "Altitude: 808 feet, Speed: 41 mph, Fuel: 45.99\n",
      "Altitude: 696 feet, Speed: 49 mph, Fuel: 44.47\n",
      "Altitude: 940 feet, Speed: 51 mph, Fuel: 43.28\n",
      "Altitude: 1410 feet, Speed: 43 mph, Fuel: 42.73\n",
      "Altitude: 1811 feet, Speed: 36 mph, Fuel: 41.13\n",
      "Altitude: 1578 feet, Speed: 30 mph, Fuel: 39.83\n",
      "Altitude: 1504 feet, Speed: 24 mph, Fuel: 38.96\n",
      "Altitude: 1011 feet, Speed: 26 mph, Fuel: 38.01\n",
      "Altitude: 956 feet, Speed: 27 mph, Fuel: 36.15\n",
      "Altitude: 882 feet, Speed: 29 mph, Fuel: 34.17\n",
      "Altitude: 755 feet, Speed: 39 mph, Fuel: 33.48\n",
      "Altitude: 261 feet, Speed: 40 mph, Fuel: 32.50\n",
      "Altitude: 348 feet, Speed: 30 mph, Fuel: 30.64\n",
      "Altitude: 230 feet, Speed: 36 mph, Fuel: 29.10\n",
      "Altitude: 0 feet, Speed: 41 mph, Fuel: 28.10\n",
      "Altitude: 92 feet, Speed: 31 mph, Fuel: 26.90\n",
      "Altitude: 510 feet, Speed: 40 mph, Fuel: 25.84\n",
      "Altitude: 39 feet, Speed: 42 mph, Fuel: 24.27\n",
      "Altitude: 223 feet, Speed: 39 mph, Fuel: 22.28\n",
      "Altitude: 590 feet, Speed: 34 mph, Fuel: 21.41\n",
      "Altitude: 178 feet, Speed: 24 mph, Fuel: 19.82\n",
      "Altitude: 0 feet, Speed: 31 mph, Fuel: 18.86\n",
      "Altitude: 438 feet, Speed: 31 mph, Fuel: 17.93\n",
      "Altitude: 636 feet, Speed: 21 mph, Fuel: 16.46\n",
      "Altitude: 360 feet, Speed: 24 mph, Fuel: 15.17\n",
      "Altitude: 521 feet, Speed: 22 mph, Fuel: 14.32\n",
      "Altitude: 525 feet, Speed: 26 mph, Fuel: 13.74\n",
      "Altitude: 733 feet, Speed: 26 mph, Fuel: 13.06\n",
      "Altitude: 1100 feet, Speed: 24 mph, Fuel: 12.21\n",
      "Altitude: 1420 feet, Speed: 21 mph, Fuel: 11.04\n",
      "Altitude: 1372 feet, Speed: 27 mph, Fuel: 10.29\n",
      "Altitude: 1430 feet, Speed: 37 mph, Fuel: 8.67\n",
      "Altitude: 997 feet, Speed: 36 mph, Fuel: 7.82\n",
      "Altitude: 1035 feet, Speed: 35 mph, Fuel: 6.41\n",
      "Altitude: 964 feet, Speed: 41 mph, Fuel: 5.35\n",
      "Altitude: 875 feet, Speed: 50 mph, Fuel: 4.48\n",
      "Altitude: 848 feet, Speed: 48 mph, Fuel: 2.84\n",
      "Altitude: 1141 feet, Speed: 43 mph, Fuel: 2.32\n",
      "Altitude: 719 feet, Speed: 39 mph, Fuel: 1.21\n",
      "Altitude: 542 feet, Speed: 44 mph, Fuel: 0.15\n",
      "Altitude: 750 feet, Speed: 41 mph, Fuel: 0.00\n",
      "Out of fuel. The flight is over.\n"
     ]
    }
   ],
   "source": [
    "import random\n",
    "\n",
    "# Initial parameters\n",
    "altitude = 0\n",
    "max_altitude = 42000\n",
    "speed = 0\n",
    "max_speed = 638  # mph\n",
    "fuel = 100\n",
    "\n",
    "print(\"Welcome to Flight Simulator!\")\n",
    "\n",
    "# Flight simulation loop\n",
    "while altitude < 10000 and fuel > 0:\n",
    "    # Simulate altitude changes (realistic range: -500 to +500 feet per step)\n",
    "    altitude_change = random.randint(-500, 500)\n",
    "    altitude = max(altitude + altitude_change, 0)  # Altitude should not go below 0\n",
    "\n",
    "    # Simulate speed changes (realistic range: -10 to +10 mph per step)\n",
    "    speed_change = random.randint(-10, 10)\n",
    "    speed = max(speed + speed_change, 0)  # Speed should not go below 0\n",
    "\n",
    "    # Simulate fuel consumption (realistic range: 0.5 to 2 units per step)\n",
    "    fuel_consumption = random.uniform(0.5, 2)\n",
    "    fuel = max(fuel - fuel_consumption, 0)  # Fuel should not go below 0\n",
    "\n",
    "    print(f\"Altitude: {altitude} feet, Speed: {speed} mph, Fuel: {fuel:.2f}\")\n",
    "\n",
    "# Check if the flight was successful\n",
    "if altitude >= 10000:\n",
    "    print(\"Congratulations! You've reached 10,000 feet.\")\n",
    "else:\n",
    "    print(\"Out of fuel. The flight is over.\")\n",
    "\n",
    "# Code Code Code"
   ]
  },
  {
   "cell_type": "markdown",
   "metadata": {},
   "source": [
    "## QUIZ TIME"
   ]
  },
  {
   "cell_type": "markdown",
   "metadata": {},
   "source": [
    "- Quick true or false quiz, whoever answers this correctly(raise your hand) gets a piece of gum or a dinero. \n",
    "<hr>\n",
    "\n",
    "> T or F    \n",
    "- A simulation will always have the same result.\n",
    "> T or F    \n",
    "- A simulation investigates a phenomenom without real-world constraints of time, money, or safety.\n",
    "> T or F    \n",
    "- A simulation has results which are more accurate than an experiment,\n",
    "> T or F    \n",
    "- A simulation can model real-worl events that are not practical for experiments"
   ]
  },
  {
   "cell_type": "markdown",
   "metadata": {},
   "source": [
    "## HOMEWORK HACK #1 "
   ]
  },
  {
   "cell_type": "markdown",
   "metadata": {},
   "source": [
    "First finish Popcorn Hack #3. Expand the simulation to involve your own money.\n",
    "\n",
    "starting money: $100\n",
    "\n",
    "(Dice Roll <= 3) &rarr; lose $70\n",
    "\n",
    "( 6> Dice Roll >3) &rarr; lose $40\n",
    "\n",
    "( 9> Dice Roll >=6) &rarr; win $20\n",
    "\n",
    "( Dice Roll>= 9 + Session Win) &rarr; win $50\n",
    "\n",
    "Jackpot &rarr; win $100"
   ]
  },
  {
   "cell_type": "code",
   "execution_count": 12,
   "metadata": {},
   "outputs": [
    {
     "name": "stdout",
     "output_type": "stream",
     "text": [
      "Session 1, Roll: 10, Money Change: 50, Total Money: 150\n",
      "Session 2, Roll: 6, Money Change: 20, Total Money: 120\n",
      "Session 3, Roll: 9, Money Change: 50, Total Money: 150\n",
      "Session 4, Roll: 11, Money Change: 50, Total Money: 150\n",
      "Session 5, Roll: 2, Money Change: 50, Total Money: 80\n",
      "Session 6, Roll: 2, Money Change: 50, Total Money: 80\n",
      "Session 7, Roll: 6, Money Change: 20, Total Money: 120\n",
      "Session 8, Roll: 2, Money Change: 50, Total Money: 80\n",
      "Session 9, Roll: 3, Money Change: 50, Total Money: 80\n",
      "Session 10, Roll: 4, Money Change: 50, Total Money: 110\n",
      "Simulated 10 sessions.\n",
      "Probability of hitting the jackpot: 50.00%\n"
     ]
    }
   ],
   "source": [
    "import random\n",
    "\n",
    "# Initialize variables\n",
    "starting_money = 100\n",
    "sessions = 0\n",
    "session_wins = 0\n",
    "jackpot_wins = 0\n",
    "\n",
    "# Number of sessions to simulate\n",
    "num_sessions = 10\n",
    "\n",
    "# Simulate the game for 10 sessions\n",
    "while sessions < num_sessions:\n",
    "    money = starting_money  # Reset money for each session\n",
    "\n",
    "    money_change = 0\n",
    "\n",
    "    for _ in range(1):  # You need to win at least 5 sessions to win the jackpot\n",
    "        dice_roll = random.randint(1, 6) + random.randint(1, 6)\n",
    "\n",
    "        if dice_roll <= 3:\n",
    "            money_change = -70\n",
    "            money += money_change\n",
    "        if dice_roll > 3 and dice_roll < 6:\n",
    "            money_change = -40\n",
    "            money += money_change\n",
    "        if dice_roll >= 6 and dice_roll < 9:\n",
    "            money_change = 20\n",
    "            money += money_change\n",
    "        else:  # You win the session\n",
    "            money_change = 50\n",
    "            money += money_change\n",
    "            session_wins += 1\n",
    "\n",
    "        if money <= 0:\n",
    "            break  # You ran out of money, end the session\n",
    "\n",
    "        print(f\"Session {sessions + 1}, Roll: {dice_roll}, Money Change: {money_change}, Total Money: {money}\")\n",
    "\n",
    "    if session_wins >= 5:\n",
    "        jackpot_wins += 1\n",
    "\n",
    "    sessions += 1\n",
    "\n",
    "# Calculate the probability of hitting the jackpot\n",
    "probability = jackpot_wins / num_sessions\n",
    "\n",
    "print(f\"Simulated {num_sessions} sessions.\")\n",
    "print(f\"Probability of hitting the jackpot: {probability:.2%}\")\n"
   ]
  },
  {
   "cell_type": "markdown",
   "metadata": {},
   "source": [
    "## HOMEWORK HACK #2"
   ]
  },
  {
   "cell_type": "markdown",
   "metadata": {},
   "source": [
    "> Given initial parameters for a car simulation, including its initial speed, acceleration rate, deceleration rate, maximum speed, and initial distance, write a  program to simulate the car's journey and determine the final speed, distance covered, and time taken before it either covers 1000 meters or slows down to below 5 m/s?"
   ]
  },
  {
   "cell_type": "code",
   "execution_count": 15,
   "metadata": {},
   "outputs": [
    {
     "name": "stdout",
     "output_type": "stream",
     "text": [
      "Final speed: 45 m/s\n",
      "Distance covered: 1007 m\n",
      "Time taken: 38 seconds\n"
     ]
    }
   ],
   "source": [
    "# Initial parameters\n",
    "speed = 6  # Initial speed\n",
    "acceleration = 2  # Acceleration rate in m/s^2\n",
    "deceleration = 1  # Deceleration rate in m/s^2\n",
    "max_speed = 60  # Maximum speed in m/s\n",
    "distance = 0  # Initial distance\n",
    "time = 0  # Initial time\n",
    "\n",
    "# Constants\n",
    "target_distance = 1000  # Target distance in meters\n",
    "min_speed = 5  # Minimum speed in m/s\n",
    "\n",
    "# Simulation loop\n",
    "while distance < target_distance and speed >= min_speed:\n",
    "    # Update time\n",
    "    time += 1\n",
    "\n",
    "    # Accelerate until reaching maximum speed\n",
    "    if speed < max_speed:\n",
    "        speed += acceleration\n",
    "\n",
    "    # Check if speed exceeds maximum\n",
    "    if speed > max_speed:\n",
    "        speed = max_speed\n",
    "\n",
    "    # Update distance based on current speed\n",
    "    distance += speed\n",
    "\n",
    "    # Decelerate if necessary\n",
    "    if distance >= target_distance:\n",
    "        break\n",
    "    if speed - deceleration > min_speed:\n",
    "        speed -= deceleration\n",
    "    else:\n",
    "        speed = min_speed\n",
    "\n",
    "# Output results\n",
    "print(\"Final speed:\", speed, \"m/s\")\n",
    "print(\"Distance covered:\", distance, \"m\")\n",
    "print(\"Time taken:\", time, \"seconds\")\n",
    "\n",
    "\n",
    "#Code Code Code"
   ]
  }
 ],
 "metadata": {
  "kernelspec": {
   "display_name": "Python 3",
   "language": "python",
   "name": "python3"
  },
  "language_info": {
   "codemirror_mode": {
    "name": "ipython",
    "version": 3
   },
   "file_extension": ".py",
   "mimetype": "text/x-python",
   "name": "python",
   "nbconvert_exporter": "python",
   "pygments_lexer": "ipython3",
   "version": "3.10.12"
  },
  "orig_nbformat": 4
 },
 "nbformat": 4,
 "nbformat_minor": 2
}
