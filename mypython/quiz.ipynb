{
 "cells": [
  {
   "cell_type": "code",
   "execution_count": 1,
   "metadata": {},
   "outputs": [],
   "source": [
    "import getpass, sys, os\n",
    "\n",
    "# Questions and answers\n",
    "print(\"1\\n\")\n",
    "questions = [\n",
    "    \"Which command allows people to import commands and funcitons?\"\n",
    "    \"What command defines a funciton?\"\n",
    "    \"Which command prints a specified messge on the screen?\"\n",
    "    \"Which command helps differentiate right from wrong?\"\n",
    "    \"Which command returns input from the user?\"\n",
    "    \"A collection of characters is called ____?\"\n",
    "]\n",
    "print(\"2\\n\")\n",
    "correct_answers = [\n",
    "    \"import\"\n",
    "    \"def\"\n",
    "    \"print\"\n",
    "    \"if\"\n",
    "    \"return\"\n",
    "    \"string\"\n",
    "]\n",
    "\n",
    "def question_with_response(prompt):\n",
    "    print(f\"\\nQuestion {prompt+1}: {questions[prompt]}\")\n",
    "    msg = input(\"\\nYour answer: \").lower()\n",
    "    return msg\n",
    "\n",
    "#Quiz function\n",
    "def run_quiz():\n",
    "    print(\"hi\\n\")\n",
    "    correct = 0\n",
    "    for i in range(len(questions)):\n",
    "        print(i)\n",
    "                \n",
    "        rsp = question_with_response(i)\n",
    "        if rsp == correct_answers[i]:\n",
    "            print(\"Correct!\")\n",
    "            correct +=1\n",
    "        else:\n",
    "            print(\"Incorrect\")\n",
    "print(\"hello\\n\")\n",
    "\n",
    "run_quiz()        \n",
    "            \n",
    "print(\"\\nQuiz completed!\")\n",
    "print(getpass.getuser() + \" you scored \" + str((correct)/6))\n",
    "\n",
    "        "
   ]
  },
  {
   "cell_type": "markdown",
   "metadata": {},
   "source": []
  }
 ],
 "metadata": {
  "kernelspec": {
   "display_name": "Python 3",
   "language": "python",
   "name": "python3"
  },
  "language_info": {
   "codemirror_mode": {
    "name": "ipython",
    "version": 3
   },
   "file_extension": ".py",
   "mimetype": "text/x-python",
   "name": "python",
   "nbconvert_exporter": "python",
   "pygments_lexer": "ipython3",
   "version": "3.10.12"
  },
  "orig_nbformat": 4
 },
 "nbformat": 4,
 "nbformat_minor": 2
}
